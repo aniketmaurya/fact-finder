{
 "cells": [
  {
   "cell_type": "code",
   "execution_count": 1,
   "metadata": {},
   "outputs": [],
   "source": [
    "import json\n",
    "import random\n",
    "from datetime import datetime\n",
    "from openai import OpenAI\n",
    "from typing import Dict, List\n",
    "from faker import Faker\n",
    "from faker.providers import company, person, address, phone_number, internet\n",
    "from pathlib import Path\n",
    "from rich import print"
   ]
  },
  {
   "cell_type": "code",
   "execution_count": 2,
   "metadata": {},
   "outputs": [],
   "source": [
    "class FinancialAdvisoryDataGenerator:\n",
    "    def __init__(self, openai_client: OpenAI, output_dir: str = \"dataset\"):\n",
    "        self.client = openai_client\n",
    "        self.fake = Faker(\"en_US\")\n",
    "        self.fake.add_provider(company)\n",
    "        self.fake.add_provider(person)\n",
    "        self.fake.add_provider(address)\n",
    "        self.fake.add_provider(phone_number)\n",
    "        self.fake.add_provider(internet)\n",
    "\n",
    "        # Setup directory structure\n",
    "        self.output_dir = Path(output_dir)\n",
    "        self.transcripts_dir = self.output_dir / \"transcripts\"\n",
    "        self.structured_dir = self.output_dir / \"structured_data\"\n",
    "        self.raw_profiles_dir = self.output_dir / \"raw_profiles\"\n",
    "\n",
    "        # Create directories\n",
    "        self.output_dir.mkdir(exist_ok=True)\n",
    "        self.transcripts_dir.mkdir(exist_ok=True)\n",
    "        self.structured_dir.mkdir(exist_ok=True)\n",
    "        self.raw_profiles_dir.mkdir(exist_ok=True)\n",
    "\n",
    "        # Initialize dataset index\n",
    "        self.dataset_index = []\n",
    "        self.load_existing_index()\n",
    "\n",
    "    def load_existing_index(self):\n",
    "        \"\"\"Load existing dataset index if it exists\"\"\"\n",
    "        index_file = self.output_dir / \"dataset_index.json\"\n",
    "        if index_file.exists():\n",
    "            with open(index_file) as f:\n",
    "                self.dataset_index = json.load(f)\n",
    "            print(f\"Loaded {len(self.dataset_index)} existing samples from index\")\n",
    "\n",
    "    def save_index(self):\n",
    "        \"\"\"Save the current dataset index\"\"\"\n",
    "        with open(self.output_dir / \"dataset_index.json\", \"w\") as f:\n",
    "            json.dump(self.dataset_index, f, indent=2)\n",
    "\n",
    "    def generate_realistic_salary(self, occupation: str) -> int:\n",
    "        \"\"\"Generate realistic salary based on occupation\"\"\"\n",
    "        salary_ranges = {\n",
    "            \"Software Engineer\": (70000, 150000),\n",
    "            \"Teacher\": (35000, 65000),\n",
    "            \"Nurse\": (50000, 85000),\n",
    "            \"Sales Manager\": (45000, 95000),\n",
    "            \"Accountant\": (45000, 85000),\n",
    "            \"Construction Manager\": (55000, 95000),\n",
    "            \"Marketing Director\": (70000, 130000),\n",
    "            \"Government Employee\": (40000, 80000),\n",
    "            \"Restaurant Manager\": (35000, 60000),\n",
    "            \"Logistics Manager\": (40000, 70000),\n",
    "            \"Doctor\": (120000, 300000),\n",
    "            \"Lawyer\": (80000, 200000),\n",
    "            \"Police Officer\": (45000, 80000),\n",
    "            \"Firefighter\": (45000, 85000),\n",
    "            \"Real Estate Agent\": (30000, 120000),\n",
    "            \"Insurance Agent\": (35000, 85000),\n",
    "            \"Bank Manager\": (60000, 120000),\n",
    "            \"HR Manager\": (55000, 95000),\n",
    "            \"Project Manager\": (65000, 115000),\n",
    "            \"Electrician\": (45000, 80000),\n",
    "            \"Plumber\": (40000, 75000),\n",
    "            \"Mechanic\": (35000, 65000),\n",
    "            \"Chef\": (30000, 70000),\n",
    "            \"Pharmacist\": (90000, 140000),\n",
    "            \"Financial Advisor\": (50000, 120000),\n",
    "            \"Retired\": (0, 0),  # For retirees\n",
    "        }\n",
    "\n",
    "        min_sal, max_sal = salary_ranges.get(occupation, (40000, 80000))\n",
    "        if min_sal == 0 and max_sal == 0:\n",
    "            return 0\n",
    "        return random.randint(min_sal, max_sal)\n",
    "\n",
    "    def generate_client_variations(self) -> List[Dict]:\n",
    "        \"\"\"Generate diverse client profile variations using Faker\"\"\"\n",
    "\n",
    "        # Expanded occupation list\n",
    "        occupations = [\n",
    "            \"Software Engineer\",\n",
    "            \"Teacher\",\n",
    "            \"Nurse\",\n",
    "            \"Sales Manager\",\n",
    "            \"Accountant\",\n",
    "            \"Construction Manager\",\n",
    "            \"Marketing Director\",\n",
    "            \"Government Employee\",\n",
    "            \"Restaurant Manager\",\n",
    "            \"Logistics Manager\",\n",
    "            \"Doctor\",\n",
    "            \"Lawyer\",\n",
    "            \"Police Officer\",\n",
    "            \"Firefighter\",\n",
    "            \"Real Estate Agent\",\n",
    "            \"Insurance Agent\",\n",
    "            \"Bank Manager\",\n",
    "            \"HR Manager\",\n",
    "            \"Project Manager\",\n",
    "            \"Electrician\",\n",
    "            \"Plumber\",\n",
    "            \"Mechanic\",\n",
    "            \"Chef\",\n",
    "            \"Pharmacist\",\n",
    "            \"Financial Advisor\",\n",
    "            \"Retired\",  # For older single clients\n",
    "        ]\n",
    "\n",
    "        # Age and retirement scenarios\n",
    "        age_scenarios = [\n",
    "            (58, 62, \"Early retirement planning\"),\n",
    "            (61, 65, \"Traditional retirement\"),\n",
    "            (64, 67, \"Delayed retirement\"),\n",
    "            (55, 60, \"Emergency retirement planning\"),\n",
    "            (62, 65, \"Standard transition\"),\n",
    "            (59, 62, \"Health-related early retirement\"),\n",
    "            (63, 66, \"Phased retirement planning\"),\n",
    "            (60, 64, \"Corporate buyout retirement\"),\n",
    "            (45, 65, \"Mid-career planning\"),\n",
    "            (35, 65, \"Early career planning\"),\n",
    "            (50, 62, \"Accelerated retirement planning\"),\n",
    "        ]\n",
    "\n",
    "        # Risk tolerance options\n",
    "        risk_tolerances = [\n",
    "            \"Conservative\",\n",
    "            \"Moderate\",\n",
    "            \"Moderately Aggressive\",\n",
    "            \"Aggressive\",\n",
    "        ]\n",
    "\n",
    "        # Marital status options\n",
    "        marital_statuses = [\"Married\", \"Single\", \"Divorced\", \"Widowed\"]\n",
    "\n",
    "        variations = []\n",
    "        for i in range(1000):  # Generate pool of 1000 variations\n",
    "            # Determine if single or couple (70% couples, 30% single)\n",
    "            is_couple = random.random() < 0.7\n",
    "            marital_status = (\n",
    "                \"Married\"\n",
    "                if is_couple\n",
    "                else random.choice([\"Single\", \"Divorced\", \"Widowed\"])\n",
    "            )\n",
    "\n",
    "            # Generate client 1 data\n",
    "            client1_first = self.fake.first_name()\n",
    "            client1_last = self.fake.last_name()\n",
    "            client1_occupation = random.choice(occupations)\n",
    "            client1_employer = (\n",
    "                self.fake.company() if client1_occupation != \"Retired\" else \"Retired\"\n",
    "            )\n",
    "            client1_income = self.generate_realistic_salary(client1_occupation)\n",
    "\n",
    "            # Age scenario\n",
    "            ages = random.choice(age_scenarios)\n",
    "            client1_age = ages[0]\n",
    "\n",
    "            # Generate date of birth\n",
    "            client1_dob = self.fake.date_of_birth(\n",
    "                minimum_age=client1_age, maximum_age=client1_age\n",
    "            )\n",
    "\n",
    "            # Generate contact information\n",
    "            address = self.fake.address().replace(\"\\n\", \", \")\n",
    "            phone = self.fake.phone_number()\n",
    "            email1 = f\"{client1_first.lower()}.{client1_last.lower()}@{self.fake.domain_name()}\"\n",
    "\n",
    "            # Initialize base variation\n",
    "            variation = {\n",
    "                \"id\": f\"client_profile_{i + 1}\",\n",
    "                \"is_couple\": is_couple,\n",
    "                \"client1\": {\n",
    "                    \"first_name\": client1_first,\n",
    "                    \"last_name\": client1_last,\n",
    "                    \"date_of_birth\": client1_dob.isoformat(),\n",
    "                    \"marital_status\": marital_status,\n",
    "                    \"occupation\": client1_occupation,\n",
    "                    \"employer\": client1_employer,\n",
    "                    \"income\": client1_income,\n",
    "                    \"age\": client1_age,\n",
    "                    \"retirement_age\": ages[1],\n",
    "                    \"phone\": phone,\n",
    "                    \"email\": email1,\n",
    "                },\n",
    "                \"address\": address,\n",
    "                \"scenario\": ages[2],\n",
    "            }\n",
    "\n",
    "            if is_couple:\n",
    "                # Generate client 2 data for couples\n",
    "                client2_first = self.fake.first_name()\n",
    "                client2_last = client1_last  # Same last name for married couples\n",
    "                client2_occupation = random.choice(occupations)\n",
    "                client2_employer = (\n",
    "                    self.fake.company()\n",
    "                    if client2_occupation != \"Retired\"\n",
    "                    else \"Retired\"\n",
    "                )\n",
    "                client2_income = self.generate_realistic_salary(client2_occupation)\n",
    "                client2_age = client1_age + random.randint(-3, 3)  # Age difference\n",
    "                client2_dob = self.fake.date_of_birth(\n",
    "                    minimum_age=client2_age, maximum_age=client2_age\n",
    "                )\n",
    "                email2 = f\"{client2_first.lower()}.{client2_last.lower()}@{self.fake.domain_name()}\"\n",
    "\n",
    "                variation[\"client2\"] = {\n",
    "                    \"first_name\": client2_first,\n",
    "                    \"last_name\": client2_last,\n",
    "                    \"date_of_birth\": client2_dob.isoformat(),\n",
    "                    \"marital_status\": \"Married\",\n",
    "                    \"occupation\": client2_occupation,\n",
    "                    \"employer\": client2_employer,\n",
    "                    \"income\": client2_income,\n",
    "                    \"age\": client2_age,\n",
    "                    \"retirement_age\": ages[1],\n",
    "                    \"email\": email2,\n",
    "                }\n",
    "\n",
    "                total_household_income = client1_income + client2_income\n",
    "            else:\n",
    "                # Single client\n",
    "                total_household_income = client1_income\n",
    "                variation[\"client2\"] = None\n",
    "\n",
    "            # Financial profile generation\n",
    "            years_worked = random.randint(15, 40)\n",
    "\n",
    "            if is_couple:\n",
    "                client1_401k = (\n",
    "                    int(client1_income * 0.1 * years_worked * random.uniform(0.8, 1.5))\n",
    "                    if client1_income > 0\n",
    "                    else 0\n",
    "                )\n",
    "                client1_ira = (\n",
    "                    int(client1_income * 0.05 * years_worked * random.uniform(0.5, 2.0))\n",
    "                    if client1_income > 0\n",
    "                    else random.randint(0, 100000)\n",
    "                )\n",
    "                client2_401k = (\n",
    "                    int(client2_income * 0.08 * years_worked * random.uniform(0.6, 1.3))\n",
    "                    if client2_income > 0\n",
    "                    else 0\n",
    "                )\n",
    "                pension_values = [client1_401k, client1_ira, client2_401k]\n",
    "            else:\n",
    "                client1_401k = (\n",
    "                    int(client1_income * 0.12 * years_worked * random.uniform(0.8, 1.8))\n",
    "                    if client1_income > 0\n",
    "                    else 0\n",
    "                )\n",
    "                client1_ira = (\n",
    "                    int(client1_income * 0.08 * years_worked * random.uniform(0.5, 2.5))\n",
    "                    if client1_income > 0\n",
    "                    else random.randint(0, 150000)\n",
    "                )\n",
    "                pension_values = [client1_401k, client1_ira]\n",
    "\n",
    "            # Generate realistic expenses based on household size and income\n",
    "            if is_couple:\n",
    "                annual_expenses = int(total_household_income * random.uniform(0.3, 0.6))\n",
    "            else:\n",
    "                annual_expenses = int(\n",
    "                    total_household_income * random.uniform(0.4, 0.7)\n",
    "                )  # Single people often have higher expense ratios\n",
    "\n",
    "            target_income = int(annual_expenses * random.uniform(1.1, 1.4))\n",
    "\n",
    "            # Generate additional assets\n",
    "            home_value = random.randint(150000, 750000)\n",
    "            mortgage_balance = random.randint(0, min(home_value, 400000))\n",
    "            savings = random.randint(5000, 150000)\n",
    "            investments = random.randint(0, 200000)\n",
    "\n",
    "            variation[\"financial_profile\"] = {\n",
    "                \"pension_values\": pension_values,\n",
    "                \"annual_expenses\": annual_expenses,\n",
    "                \"target_income\": target_income,\n",
    "                \"risk_tolerance\": random.choice(risk_tolerances),\n",
    "                \"years_to_retirement\": ages[1] - client1_age,\n",
    "                \"household_income\": total_household_income,\n",
    "            }\n",
    "\n",
    "            variation[\"assets\"] = {\n",
    "                \"home_value\": home_value,\n",
    "                \"mortgage_balance\": mortgage_balance,\n",
    "                \"savings\": savings,\n",
    "                \"investments\": investments,\n",
    "            }\n",
    "\n",
    "            variations.append(variation)\n",
    "\n",
    "        return variations\n",
    "\n",
    "    def generate_transcript_variation(self, client_profile: Dict) -> str:\n",
    "        \"\"\"Generate a new transcript based on client profile\"\"\"\n",
    "\n",
    "        c1 = client_profile[\"client1\"]\n",
    "        fp = client_profile[\"financial_profile\"]\n",
    "        is_couple = client_profile[\"is_couple\"]\n",
    "\n",
    "        if is_couple:\n",
    "            c2 = client_profile[\"client2\"]\n",
    "            client_info = f\"\"\"\n",
    "CLIENT PROFILES:\n",
    "• {c1[\"first_name\"]} {c1[\"last_name\"]}: {c1[\"age\"]} years old, {c1[\"occupation\"]} at {c1[\"employer\"]}\n",
    "  - Annual income: ${c1[\"income\"]:,}\n",
    "  - Desired retirement age: {c1[\"retirement_age\"]}\n",
    "• {c2[\"first_name\"]} {c2[\"last_name\"]}: {c2[\"age\"]} years old, {c2[\"occupation\"]} at {c2[\"employer\"]}\n",
    "  - Annual income: ${c2[\"income\"]:,}\n",
    "\n",
    "FINANCIAL SNAPSHOT:\n",
    "• Retirement accounts: ${fp[\"pension_values\"][0]:,} (401k), ${fp[\"pension_values\"][1]:,} (IRA), ${fp[\"pension_values\"][2]:,} (spouse's retirement savings)\"\"\"\n",
    "\n",
    "            conversation_participants = f\"Use the actual names {c1['first_name']} and {c2['first_name']} in the conversation.\"\n",
    "            speaker_format = (\n",
    "                f\"ADVISOR, {c1['first_name'].upper()}, {c2['first_name'].upper()}\"\n",
    "            )\n",
    "\n",
    "        else:\n",
    "            client_info = f\"\"\"\n",
    "CLIENT PROFILE:\n",
    "• {c1[\"first_name\"]} {c1[\"last_name\"]}: {c1[\"age\"]} years old, {c1[\"marital_status\"]}, {c1[\"occupation\"]} at {c1[\"employer\"]}\n",
    "  - Annual income: ${c1[\"income\"]:,}\n",
    "  - Desired retirement age: {c1[\"retirement_age\"]}\n",
    "\n",
    "FINANCIAL SNAPSHOT:\n",
    "• Retirement accounts: ${fp[\"pension_values\"][0]:,} (401k), ${fp[\"pension_values\"][1]:,} (IRA)\"\"\"\n",
    "\n",
    "            conversation_participants = (\n",
    "                f\"Use the actual name {c1['first_name']} in the conversation.\"\n",
    "            )\n",
    "            speaker_format = f\"ADVISOR, {c1['first_name'].upper()}\"\n",
    "\n",
    "        prompt = f\"\"\"\n",
    "        You are generating a realistic financial advisory meeting transcript. Create an authentic consultation between a professional financial advisor and {\n",
    "            \"married clients\" if is_couple else \"a single client\"\n",
    "        }, incorporating natural conversation patterns and industry-specific language.\n",
    "\n",
    "{client_info}\n",
    "• Current liquid savings: ${client_profile[\"assets\"][\"savings\"]:,}\n",
    "• Primary residence: ${client_profile[\"assets\"][\"home_value\"]:,} (current value), ${client_profile[\"assets\"][\"mortgage_balance\"]:,} remaining mortgage\n",
    "• Annual {\"household\" if is_couple else \"personal\"} expenses: ${fp[\"annual_expenses\"]:,}\n",
    "• Target retirement income need: ${fp[\"target_income\"]:,} annually\n",
    "• Risk tolerance profile: {fp[\"risk_tolerance\"]}\n",
    "• Years until planned retirement: {fp[\"years_to_retirement\"]}\n",
    "\n",
    "CONVERSATION REQUIREMENTS:\n",
    "Create a 15-20 minute meeting transcript that feels authentic and professional. Include:\n",
    "\n",
    "STRUCTURAL ELEMENTS:\n",
    "1. Opening pleasantries and agenda setting (2-3 minutes)\n",
    "2. Income and employment review (3-4 minutes)\n",
    "3. Asset and liability assessment (4-5 minutes)\n",
    "4. Retirement goal analysis and gap identification (3-4 minutes)\n",
    "5. Risk assessment and strategy discussion (4-5 minutes)\n",
    "6. Action items and next steps (2-3 minutes)\n",
    "\n",
    "{\"COUPLE-SPECIFIC DYNAMICS:\" if is_couple else \"SINGLE CLIENT DYNAMICS:\"}\n",
    "{\n",
    "            '''• Show natural interaction between spouses with different risk tolerances or priorities\n",
    "• Include moments where one spouse defers to the other on certain topics\n",
    "• Demonstrate collaborative decision-making and occasional disagreements\n",
    "• Show advisor managing couple dynamics and ensuring both voices are heard'''\n",
    "            if is_couple\n",
    "            else '''• Focus on individual concerns about retirement independence\n",
    "• Address single-person specific challenges (no spousal income backup, healthcare considerations)\n",
    "• Show client's personal decision-making process\n",
    "• Include concerns about legacy planning or family support'''\n",
    "        }\n",
    "\n",
    "CONVERSATION DYNAMICS:\n",
    "• Use realistic dialogue with natural interruptions, clarifications, and follow-up questions\n",
    "• Include advisor's probing questions to gather missing information\n",
    "• Show {\n",
    "            \"clients\" if is_couple else \"client\"\n",
    "        } expressing genuine concerns, hesitations, and priorities\n",
    "• Demonstrate advisor explaining complex concepts in accessible terms\n",
    "• Include moments where {\n",
    "            \"clients\" if is_couple else \"client\"\n",
    "        } ask for clarification or express uncertainty\n",
    "\n",
    "TECHNICAL AUTHENTICITY:\n",
    "• Use proper financial planning terminology (asset allocation, withdrawal rates, sequence of returns risk, etc.)\n",
    "• Reference specific investment vehicles and strategies relevant to their situation\n",
    "• Include realistic fee discussions and product comparisons\n",
    "• Mention compliance considerations and documentation needs\n",
    "• Reference industry benchmarks and planning rules of thumb\n",
    "\n",
    "FORMAT SPECIFICATIONS:\n",
    "• Use [MM:SS] timestamps starting from [00:00]\n",
    "• Label speakers as: {speaker_format}\n",
    "• Include natural speech patterns: \"um,\" \"let's see,\" \"actually,\" brief pauses\n",
    "• Show overlapping dialogue with [interrupting] or [continuing] tags when appropriate\n",
    "• Include advisor's note-taking moments: [reviewing documents], [calculating]\n",
    "\n",
    "TONE AND STYLE:\n",
    "• Professional but warm and approachable\n",
    "• Advisor demonstrates expertise while remaining consultative, not pushy\n",
    "• {\n",
    "            \"Clients\" if is_couple else \"Client\"\n",
    "        } should sound like real people with varying levels of financial literacy\n",
    "• Include appropriate humor or light moments to break tension\n",
    "• Show genuine concern for {'clients if is_couple else \"client\"s'} wellbeing and goals\n",
    "\n",
    "{conversation_participants}\n",
    "The conversation should feel like you're listening to an actual financial planning meeting, complete with the natural flow of discovery, education, and collaborative planning that characterizes quality advisory relationships.\"\"\"\n",
    "\n",
    "        response = self.client.chat.completions.create(\n",
    "            model=\"gpt-4\",\n",
    "            messages=[\n",
    "                {\n",
    "                    \"role\": \"system\",\n",
    "                    \"content\": \"You are an expert at generating realistic financial advisory meeting transcripts with natural dialogue and specific financial details.\",\n",
    "                },\n",
    "                {\"role\": \"user\", \"content\": prompt},\n",
    "            ],\n",
    "            temperature=0.8,\n",
    "            max_tokens=4000,\n",
    "        )\n",
    "\n",
    "        return response.choices[0].message.content\n",
    "\n",
    "    def extract_structured_data(self, transcript: str) -> Dict:\n",
    "        \"\"\"Extract structured information from transcript\"\"\"\n",
    "\n",
    "        prompt = f\"\"\"\n",
    "        Extract structured financial information from this advisory meeting transcript and format as JSON matching this template structure:\n",
    "        \n",
    "        {{\n",
    "            \"personal_details\": {{\n",
    "                \"client1\": {{\n",
    "                    \"first_name\": \"\",\n",
    "                    \"last_name\": \"\",\n",
    "                    \"date_of_birth\": \"\",\n",
    "                    \"marital_status\": \"\",\n",
    "                    \"phone\": \"\",\n",
    "                    \"email\": \"\"\n",
    "                }},\n",
    "                \"client2\": {{\n",
    "                    \"first_name\": \"\",\n",
    "                    \"last_name\": \"\",\n",
    "                    \"date_of_birth\": \"\",\n",
    "                    \"marital_status\": \"\",\n",
    "                    \"email\": \"\"\n",
    "                }}\n",
    "            }},\n",
    "            \"current_address\": {{\n",
    "                \"ownership_status\": \"\",\n",
    "                \"full_address\": \"\"\n",
    "            }},\n",
    "            \"employment\": {{\n",
    "                \"client1\": {{\n",
    "                    \"occupation\": \"\",\n",
    "                    \"employer\": \"\",\n",
    "                    \"desired_retirement_age\": 0,\n",
    "                    \"employment_status\": \"\"\n",
    "                }},\n",
    "                \"client2\": {{\n",
    "                    \"occupation\": \"\",\n",
    "                    \"employer\": \"\",\n",
    "                    \"employment_status\": \"\"\n",
    "                }}\n",
    "            }},\n",
    "            \"incomes\": [\n",
    "                {{\n",
    "                    \"owner\": \"\",\n",
    "                    \"name\": \"\",\n",
    "                    \"amount\": 0,\n",
    "                    \"frequency\": \"\",\n",
    "                    \"net_gross\": \"\"\n",
    "                }}\n",
    "            ],\n",
    "            \"expenses\": {{\n",
    "                \"housing_expenses\": [{{\n",
    "                    \"name\": \"\",\n",
    "                    \"amount\": 0,\n",
    "                    \"frequency\": \"\",\n",
    "                    \"notes\": \"\"\n",
    "                }}],\n",
    "                \"personal_expenses\": [{{\n",
    "                    \"name\": \"\",\n",
    "                    \"amount\": 0,\n",
    "                    \"frequency\": \"\",\n",
    "                    \"notes\": \"\"\n",
    "                }}]\n",
    "            }},\n",
    "            \"pensions\": [\n",
    "                {{\n",
    "                    \"owner\": \"\",\n",
    "                    \"type\": \"\",\n",
    "                    \"provider\": \"\",\n",
    "                    \"value\": 0,\n",
    "                    \"contributions\": \"\"\n",
    "                }}\n",
    "            ],\n",
    "            \"other_assets\": [\n",
    "                {{\n",
    "                    \"owner\": \"\",\n",
    "                    \"description\": \"\",\n",
    "                    \"current_value\": 0\n",
    "                }}\n",
    "            ],\n",
    "            \"loans_mortgages\": [\n",
    "                {{\n",
    "                    \"owner\": \"\",\n",
    "                    \"type\": \"\",\n",
    "                    \"provider\": \"\",\n",
    "                    \"outstanding_value\": 0,\n",
    "                    \"monthly_cost\": 0\n",
    "                }}\n",
    "            ],\n",
    "            \"objectives\": {{\n",
    "                \"retirement_date\": \"\",\n",
    "                \"target_annual_income\": 0,\n",
    "                \"risk_tolerance\": \"\",\n",
    "                \"key_goals\": []\n",
    "            }}\n",
    "        }}\n",
    "        \n",
    "        IMPORTANT NOTES:\n",
    "        - If this is a single client meeting, set client2 fields to null\n",
    "        - If client2 exists, extract their information; if not, set all client2 fields to null\n",
    "        - For single clients, use \"Client1\" as the owner for incomes, expenses, pensions, etc.\n",
    "        - For couples, use \"Client1\" and \"Client2\" or their actual names as appropriate\n",
    "        \n",
    "        Transcript:\n",
    "        {transcript}\n",
    "        \n",
    "        Extract all relevant information mentioned in the conversation and return valid JSON only.\n",
    "        Use null for missing values or non-existent second client, not empty strings.\n",
    "        Ensure all numerical values are properly extracted as numbers, not strings.\n",
    "        \"\"\"\n",
    "\n",
    "        response = self.client.chat.completions.create(\n",
    "            model=\"gpt-4\",\n",
    "            messages=[\n",
    "                {\n",
    "                    \"role\": \"system\",\n",
    "                    \"content\": \"You are an expert at extracting structured data from financial advisory transcripts. Handle both single clients and couples appropriately. Return only valid JSON with accurate numerical values.\",\n",
    "                },\n",
    "                {\"role\": \"user\", \"content\": prompt},\n",
    "            ],\n",
    "            temperature=0.1,  # Lower temperature for more consistent extraction\n",
    "            max_tokens=3000,\n",
    "        )\n",
    "\n",
    "        try:\n",
    "            return json.loads(response.choices[0].message.content)\n",
    "        except json.JSONDecodeError:\n",
    "            # Fallback if JSON parsing fails\n",
    "            return {\n",
    "                \"error\": \"Failed to parse JSON\",\n",
    "                \"raw_response\": response.choices[0].message.content,\n",
    "            }\n",
    "\n",
    "    def save_sample(self, sample: Dict, profile: Dict):\n",
    "        \"\"\"Save a single sample and update the index\"\"\"\n",
    "        sample_id = profile[\"id\"]\n",
    "        timestamp = datetime.now().strftime(\"%Y%m%d_%H%M%S\")\n",
    "\n",
    "        # Save transcript\n",
    "        transcript_file = f\"transcript_{sample_id}_{timestamp}.txt\"\n",
    "        with open(self.transcripts_dir / transcript_file, \"w\") as f:\n",
    "            f.write(sample[\"input\"])\n",
    "\n",
    "        # Save structured data\n",
    "        structured_file = f\"structured_{sample_id}_{timestamp}.json\"\n",
    "        with open(self.structured_dir / structured_file, \"w\") as f:\n",
    "            json.dump(sample[\"output\"], f, indent=2)\n",
    "\n",
    "        # Save raw profile\n",
    "        profile_file = f\"profile_{sample_id}_{timestamp}.json\"\n",
    "        with open(self.raw_profiles_dir / profile_file, \"w\") as f:\n",
    "            json.dump(profile, f, indent=2)\n",
    "\n",
    "        # Update index\n",
    "        if profile[\"is_couple\"]:\n",
    "            client_names = f\"{profile['client1']['first_name']} & {profile['client2']['first_name']} {profile['client1']['last_name']}\"\n",
    "            occupations = f\"{profile['client1']['occupation']} & {profile['client2']['occupation']}\"\n",
    "        else:\n",
    "            client_names = f\"{profile['client1']['first_name']} {profile['client1']['last_name']} (Single)\"\n",
    "            occupations = profile[\"client1\"][\"occupation\"]\n",
    "\n",
    "        index_entry = {\n",
    "            \"id\": sample_id,\n",
    "            \"timestamp\": timestamp,\n",
    "            \"transcript_file\": str(self.transcripts_dir / transcript_file),\n",
    "            \"structured_file\": str(self.structured_dir / structured_file),\n",
    "            \"profile_file\": str(self.raw_profiles_dir / profile_file),\n",
    "            \"client_names\": client_names,\n",
    "            \"occupations\": occupations,\n",
    "            \"household_income\": profile[\"financial_profile\"][\"household_income\"],\n",
    "            \"is_couple\": profile[\"is_couple\"],\n",
    "            \"marital_status\": profile[\"client1\"][\"marital_status\"],\n",
    "            \"generation_status\": \"success\",\n",
    "        }\n",
    "\n",
    "        self.dataset_index.append(index_entry)\n",
    "        self.save_index()\n",
    "\n",
    "        return index_entry\n",
    "\n",
    "    def generate_complete_dataset(self, num_samples: int = 50):\n",
    "        \"\"\"Generate samples one at a time and save immediately\"\"\"\n",
    "\n",
    "        existing_count = len(self.dataset_index)\n",
    "        print(f\"Starting generation from sample {existing_count + 1}\")\n",
    "\n",
    "        client_variations = self.generate_client_variations()\n",
    "\n",
    "        for i, profile in enumerate(\n",
    "            client_variations[existing_count : existing_count + num_samples]\n",
    "        ):\n",
    "            current_sample = i + existing_count + 1\n",
    "            print(f\"\\n{'=' * 60}\")\n",
    "            print(f\"Generating sample {current_sample}/{existing_count + num_samples}\")\n",
    "\n",
    "            if profile[\"is_couple\"]:\n",
    "                print(\n",
    "                    f\"Clients: {profile['client1']['first_name']} & {profile['client2']['first_name']} {profile['client1']['last_name']} (Couple)\"\n",
    "                )\n",
    "                print(\n",
    "                    f\"Occupations: {profile['client1']['occupation']} & {profile['client2']['occupation']}\"\n",
    "                )\n",
    "            else:\n",
    "                print(\n",
    "                    f\"Client: {profile['client1']['first_name']} {profile['client1']['last_name']} (Single - {profile['client1']['marital_status']})\"\n",
    "                )\n",
    "                print(f\"Occupation: {profile['client1']['occupation']}\")\n",
    "\n",
    "            print(f\"{'=' * 60}\")\n",
    "\n",
    "            try:\n",
    "                # Generate transcript\n",
    "                print(\"🔄 Generating transcript...\")\n",
    "                transcript = self.generate_transcript_variation(profile)\n",
    "                print(f\"✅ Transcript generated ({len(transcript)} characters)\")\n",
    "\n",
    "                # Extract structured data\n",
    "                print(\"🔄 Extracting structured data...\")\n",
    "                structured_data = self.extract_structured_data(transcript)\n",
    "\n",
    "                if \"error\" in structured_data:\n",
    "                    print(\n",
    "                        f\"❌ Error in structured data extraction: {structured_data['error']}\"\n",
    "                    )\n",
    "                    continue\n",
    "\n",
    "                print(\"✅ Structured data extracted successfully\")\n",
    "\n",
    "                # Create and save sample\n",
    "                sample = {\n",
    "                    \"id\": profile[\"id\"],\n",
    "                    \"input\": transcript,\n",
    "                    \"output\": structured_data,\n",
    "                    \"metadata\": {\n",
    "                        \"client_profile\": profile,\n",
    "                        \"generated_at\": datetime.now().isoformat(),\n",
    "                        \"is_couple\": profile[\"is_couple\"],\n",
    "                        \"household_income\": profile[\"financial_profile\"][\n",
    "                            \"household_income\"\n",
    "                        ],\n",
    "                    },\n",
    "                }\n",
    "\n",
    "                # Save immediately\n",
    "                index_entry = self.save_sample(sample, profile)\n",
    "                print(f\"💾 Sample {current_sample} saved successfully\")\n",
    "\n",
    "                # Print some stats\n",
    "                print(f\"📊 Stats:\")\n",
    "                print(\n",
    "                    f\"   Household Income: ${profile['financial_profile']['household_income']:,}\"\n",
    "                )\n",
    "                print(\n",
    "                    f\"   Risk Tolerance: {profile['financial_profile']['risk_tolerance']}\"\n",
    "                )\n",
    "                print(\n",
    "                    f\"   Years to Retirement: {profile['financial_profile']['years_to_retirement']}\"\n",
    "                )\n",
    "                print(\n",
    "                    f\"   Total Assets: ${sum([profile['assets']['home_value'], profile['assets']['savings'], profile['assets']['investments']]):,}\"\n",
    "                )\n",
    "\n",
    "            except Exception as e:\n",
    "                print(f\"❌ Error generating sample {current_sample}: {str(e)}\")\n",
    "                # Log the error\n",
    "                client_name = f\"{profile['client1']['first_name']} {profile['client1']['last_name']}\"\n",
    "                if profile[\"is_couple\"]:\n",
    "                    client_name += f\" & {profile['client2']['first_name']}\"\n",
    "\n",
    "                error_entry = {\n",
    "                    \"id\": profile[\"id\"],\n",
    "                    \"timestamp\": datetime.now().strftime(\"%Y%m%d_%H%M%S\"),\n",
    "                    \"client_names\": client_name,\n",
    "                    \"is_couple\": profile[\"is_couple\"],\n",
    "                    \"error\": str(e),\n",
    "                    \"generation_status\": \"failed\",\n",
    "                }\n",
    "                self.dataset_index.append(error_entry)\n",
    "                self.save_index()\n",
    "                continue\n",
    "\n",
    "        # Print final statistics\n",
    "        self.print_dataset_statistics()\n",
    "\n",
    "    def print_dataset_statistics(self):\n",
    "        \"\"\"Print summary statistics of the generated dataset\"\"\"\n",
    "        if not self.dataset_index:\n",
    "            print(\"No samples in dataset\")\n",
    "            return\n",
    "\n",
    "        successful_samples = [\n",
    "            s for s in self.dataset_index if s.get(\"generation_status\") == \"success\"\n",
    "        ]\n",
    "        failed_samples = [\n",
    "            s for s in self.dataset_index if s.get(\"generation_status\") == \"failed\"\n",
    "        ]\n",
    "\n",
    "        # Count couples vs singles\n",
    "        couples = [s for s in successful_samples if s.get(\"is_couple\", False)]\n",
    "        singles = [s for s in successful_samples if not s.get(\"is_couple\", False)]\n",
    "\n",
    "        print(f\"\\n{'=' * 60}\")\n",
    "        print(\"📈 FINAL DATASET STATISTICS\")\n",
    "        print(f\"{'=' * 60}\")\n",
    "        print(f\"Total samples generated: {len(self.dataset_index)}\")\n",
    "        print(f\"Successful: {len(successful_samples)}\")\n",
    "        print(f\"Failed: {len(failed_samples)}\")\n",
    "        print(\n",
    "            f\"Couples: {len(couples)} ({len(couples) / len(successful_samples) * 100:.1f}%)\"\n",
    "        )\n",
    "        print(\n",
    "            f\"Singles: {len(singles)} ({len(singles) / len(successful_samples) * 100:.1f}%)\"\n",
    "        )\n",
    "\n",
    "        if successful_samples:\n",
    "            incomes = [\n",
    "                sample[\"household_income\"]\n",
    "                for sample in successful_samples\n",
    "                if \"household_income\" in sample\n",
    "            ]\n",
    "            if incomes:\n",
    "                print(f\"Average household income: ${sum(incomes) / len(incomes):,.0f}\")\n",
    "                print(f\"Income range: ${min(incomes):,} - ${max(incomes):,}\")\n",
    "\n",
    "        print(f\"\\nFiles saved in: {self.output_dir}\")\n",
    "        print(f\"Index file: {self.output_dir}/dataset_index.json\")"
   ]
  },
  {
   "cell_type": "code",
   "execution_count": 3,
   "metadata": {},
   "outputs": [
    {
     "data": {
      "text/html": [
       "<pre style=\"white-space:pre;overflow-x:auto;line-height:normal;font-family:Menlo,'DejaVu Sans Mono',consolas,'Courier New',monospace\">\n",
       "Initializing generator<span style=\"color: #808000; text-decoration-color: #808000\">...</span>\n",
       "</pre>\n"
      ],
      "text/plain": [
       "\n",
       "Initializing generator\u001b[33m...\u001b[0m\n"
      ]
     },
     "metadata": {},
     "output_type": "display_data"
    },
    {
     "data": {
      "text/html": [
       "<pre style=\"white-space:pre;overflow-x:auto;line-height:normal;font-family:Menlo,'DejaVu Sans Mono',consolas,'Courier New',monospace\">Output directory: financial_dataset\n",
       "</pre>\n"
      ],
      "text/plain": [
       "Output directory: financial_dataset\n"
      ]
     },
     "metadata": {},
     "output_type": "display_data"
    },
    {
     "data": {
      "text/html": [
       "<pre style=\"white-space:pre;overflow-x:auto;line-height:normal;font-family:Menlo,'DejaVu Sans Mono',consolas,'Courier New',monospace\">Target samples: <span style=\"color: #008080; text-decoration-color: #008080; font-weight: bold\">10</span>\n",
       "</pre>\n"
      ],
      "text/plain": [
       "Target samples: \u001b[1;36m10\u001b[0m\n"
      ]
     },
     "metadata": {},
     "output_type": "display_data"
    }
   ],
   "source": [
    "from dotenv import load_dotenv\n",
    "\n",
    "load_dotenv(\".env\")\n",
    "\n",
    "\n",
    "client = OpenAI()\n",
    "\n",
    "# Get user preferences\n",
    "num_samples = 10\n",
    "output_dir = \"financial_dataset\"\n",
    "\n",
    "print(f\"\\nInitializing generator...\")\n",
    "print(f\"Output directory: {output_dir}\")\n",
    "print(f\"Target samples: {num_samples}\")"
   ]
  },
  {
   "cell_type": "code",
   "execution_count": 4,
   "metadata": {},
   "outputs": [
    {
     "data": {
      "text/html": [
       "<pre style=\"white-space:pre;overflow-x:auto;line-height:normal;font-family:Menlo,'DejaVu Sans Mono',consolas,'Courier New',monospace\">Loaded <span style=\"color: #008080; text-decoration-color: #008080; font-weight: bold\">3</span> existing samples from index\n",
       "</pre>\n"
      ],
      "text/plain": [
       "Loaded \u001b[1;36m3\u001b[0m existing samples from index\n"
      ]
     },
     "metadata": {},
     "output_type": "display_data"
    },
    {
     "data": {
      "text/html": [
       "<pre style=\"white-space:pre;overflow-x:auto;line-height:normal;font-family:Menlo,'DejaVu Sans Mono',consolas,'Courier New',monospace\">\n",
       "Starting generation process<span style=\"color: #808000; text-decoration-color: #808000\">...</span>\n",
       "</pre>\n"
      ],
      "text/plain": [
       "\n",
       "Starting generation process\u001b[33m...\u001b[0m\n"
      ]
     },
     "metadata": {},
     "output_type": "display_data"
    },
    {
     "data": {
      "text/html": [
       "<pre style=\"white-space:pre;overflow-x:auto;line-height:normal;font-family:Menlo,'DejaVu Sans Mono',consolas,'Courier New',monospace\">Starting generation from sample <span style=\"color: #008080; text-decoration-color: #008080; font-weight: bold\">4</span>\n",
       "</pre>\n"
      ],
      "text/plain": [
       "Starting generation from sample \u001b[1;36m4\u001b[0m\n"
      ]
     },
     "metadata": {},
     "output_type": "display_data"
    },
    {
     "data": {
      "text/html": [
       "<pre style=\"white-space:pre;overflow-x:auto;line-height:normal;font-family:Menlo,'DejaVu Sans Mono',consolas,'Courier New',monospace\">\n",
       "============================================================\n",
       "</pre>\n"
      ],
      "text/plain": [
       "\n",
       "============================================================\n"
      ]
     },
     "metadata": {},
     "output_type": "display_data"
    },
    {
     "data": {
      "text/html": [
       "<pre style=\"white-space:pre;overflow-x:auto;line-height:normal;font-family:Menlo,'DejaVu Sans Mono',consolas,'Courier New',monospace\">Generating sample <span style=\"color: #008080; text-decoration-color: #008080; font-weight: bold\">4</span>/<span style=\"color: #008080; text-decoration-color: #008080; font-weight: bold\">13</span>\n",
       "</pre>\n"
      ],
      "text/plain": [
       "Generating sample \u001b[1;36m4\u001b[0m/\u001b[1;36m13\u001b[0m\n"
      ]
     },
     "metadata": {},
     "output_type": "display_data"
    },
    {
     "data": {
      "text/html": [
       "<pre style=\"white-space:pre;overflow-x:auto;line-height:normal;font-family:Menlo,'DejaVu Sans Mono',consolas,'Courier New',monospace\">Clients: Jodi &amp; Carol Scott <span style=\"font-weight: bold\">(</span>Couple<span style=\"font-weight: bold\">)</span>\n",
       "</pre>\n"
      ],
      "text/plain": [
       "Clients: Jodi & Carol Scott \u001b[1m(\u001b[0mCouple\u001b[1m)\u001b[0m\n"
      ]
     },
     "metadata": {},
     "output_type": "display_data"
    },
    {
     "data": {
      "text/html": [
       "<pre style=\"white-space:pre;overflow-x:auto;line-height:normal;font-family:Menlo,'DejaVu Sans Mono',consolas,'Courier New',monospace\">Occupations: Retired &amp; Accountant\n",
       "</pre>\n"
      ],
      "text/plain": [
       "Occupations: Retired & Accountant\n"
      ]
     },
     "metadata": {},
     "output_type": "display_data"
    },
    {
     "data": {
      "text/html": [
       "<pre style=\"white-space:pre;overflow-x:auto;line-height:normal;font-family:Menlo,'DejaVu Sans Mono',consolas,'Courier New',monospace\">============================================================\n",
       "</pre>\n"
      ],
      "text/plain": [
       "============================================================\n"
      ]
     },
     "metadata": {},
     "output_type": "display_data"
    },
    {
     "data": {
      "text/html": [
       "<pre style=\"white-space:pre;overflow-x:auto;line-height:normal;font-family:Menlo,'DejaVu Sans Mono',consolas,'Courier New',monospace\">🔄 Generating transcript<span style=\"color: #808000; text-decoration-color: #808000\">...</span>\n",
       "</pre>\n"
      ],
      "text/plain": [
       "🔄 Generating transcript\u001b[33m...\u001b[0m\n"
      ]
     },
     "metadata": {},
     "output_type": "display_data"
    },
    {
     "data": {
      "text/html": [
       "<pre style=\"white-space:pre;overflow-x:auto;line-height:normal;font-family:Menlo,'DejaVu Sans Mono',consolas,'Courier New',monospace\">✅ Transcript generated <span style=\"font-weight: bold\">(</span><span style=\"color: #008080; text-decoration-color: #008080; font-weight: bold\">3852</span> characters<span style=\"font-weight: bold\">)</span>\n",
       "</pre>\n"
      ],
      "text/plain": [
       "✅ Transcript generated \u001b[1m(\u001b[0m\u001b[1;36m3852\u001b[0m characters\u001b[1m)\u001b[0m\n"
      ]
     },
     "metadata": {},
     "output_type": "display_data"
    },
    {
     "data": {
      "text/html": [
       "<pre style=\"white-space:pre;overflow-x:auto;line-height:normal;font-family:Menlo,'DejaVu Sans Mono',consolas,'Courier New',monospace\">🔄 Extracting structured data<span style=\"color: #808000; text-decoration-color: #808000\">...</span>\n",
       "</pre>\n"
      ],
      "text/plain": [
       "🔄 Extracting structured data\u001b[33m...\u001b[0m\n"
      ]
     },
     "metadata": {},
     "output_type": "display_data"
    },
    {
     "data": {
      "text/html": [
       "<pre style=\"white-space:pre;overflow-x:auto;line-height:normal;font-family:Menlo,'DejaVu Sans Mono',consolas,'Courier New',monospace\">✅ Structured data extracted successfully\n",
       "</pre>\n"
      ],
      "text/plain": [
       "✅ Structured data extracted successfully\n"
      ]
     },
     "metadata": {},
     "output_type": "display_data"
    },
    {
     "data": {
      "text/html": [
       "<pre style=\"white-space:pre;overflow-x:auto;line-height:normal;font-family:Menlo,'DejaVu Sans Mono',consolas,'Courier New',monospace\">💾 Sample <span style=\"color: #008080; text-decoration-color: #008080; font-weight: bold\">4</span> saved successfully\n",
       "</pre>\n"
      ],
      "text/plain": [
       "💾 Sample \u001b[1;36m4\u001b[0m saved successfully\n"
      ]
     },
     "metadata": {},
     "output_type": "display_data"
    },
    {
     "data": {
      "text/html": [
       "<pre style=\"white-space:pre;overflow-x:auto;line-height:normal;font-family:Menlo,'DejaVu Sans Mono',consolas,'Courier New',monospace\">📊 Stats:\n",
       "</pre>\n"
      ],
      "text/plain": [
       "📊 Stats:\n"
      ]
     },
     "metadata": {},
     "output_type": "display_data"
    },
    {
     "data": {
      "text/html": [
       "<pre style=\"white-space:pre;overflow-x:auto;line-height:normal;font-family:Menlo,'DejaVu Sans Mono',consolas,'Courier New',monospace\">   Household Income: $<span style=\"color: #008080; text-decoration-color: #008080; font-weight: bold\">66</span>,<span style=\"color: #008080; text-decoration-color: #008080; font-weight: bold\">431</span>\n",
       "</pre>\n"
      ],
      "text/plain": [
       "   Household Income: $\u001b[1;36m66\u001b[0m,\u001b[1;36m431\u001b[0m\n"
      ]
     },
     "metadata": {},
     "output_type": "display_data"
    },
    {
     "data": {
      "text/html": [
       "<pre style=\"white-space:pre;overflow-x:auto;line-height:normal;font-family:Menlo,'DejaVu Sans Mono',consolas,'Courier New',monospace\">   Risk Tolerance: Conservative\n",
       "</pre>\n"
      ],
      "text/plain": [
       "   Risk Tolerance: Conservative\n"
      ]
     },
     "metadata": {},
     "output_type": "display_data"
    },
    {
     "data": {
      "text/html": [
       "<pre style=\"white-space:pre;overflow-x:auto;line-height:normal;font-family:Menlo,'DejaVu Sans Mono',consolas,'Courier New',monospace\">   Years to Retirement: <span style=\"color: #008080; text-decoration-color: #008080; font-weight: bold\">3</span>\n",
       "</pre>\n"
      ],
      "text/plain": [
       "   Years to Retirement: \u001b[1;36m3\u001b[0m\n"
      ]
     },
     "metadata": {},
     "output_type": "display_data"
    },
    {
     "data": {
      "text/html": [
       "<pre style=\"white-space:pre;overflow-x:auto;line-height:normal;font-family:Menlo,'DejaVu Sans Mono',consolas,'Courier New',monospace\">   Total Assets: $<span style=\"color: #008080; text-decoration-color: #008080; font-weight: bold\">319</span>,<span style=\"color: #008080; text-decoration-color: #008080; font-weight: bold\">738</span>\n",
       "</pre>\n"
      ],
      "text/plain": [
       "   Total Assets: $\u001b[1;36m319\u001b[0m,\u001b[1;36m738\u001b[0m\n"
      ]
     },
     "metadata": {},
     "output_type": "display_data"
    },
    {
     "data": {
      "text/html": [
       "<pre style=\"white-space:pre;overflow-x:auto;line-height:normal;font-family:Menlo,'DejaVu Sans Mono',consolas,'Courier New',monospace\">\n",
       "============================================================\n",
       "</pre>\n"
      ],
      "text/plain": [
       "\n",
       "============================================================\n"
      ]
     },
     "metadata": {},
     "output_type": "display_data"
    },
    {
     "data": {
      "text/html": [
       "<pre style=\"white-space:pre;overflow-x:auto;line-height:normal;font-family:Menlo,'DejaVu Sans Mono',consolas,'Courier New',monospace\">Generating sample <span style=\"color: #008080; text-decoration-color: #008080; font-weight: bold\">5</span>/<span style=\"color: #008080; text-decoration-color: #008080; font-weight: bold\">13</span>\n",
       "</pre>\n"
      ],
      "text/plain": [
       "Generating sample \u001b[1;36m5\u001b[0m/\u001b[1;36m13\u001b[0m\n"
      ]
     },
     "metadata": {},
     "output_type": "display_data"
    },
    {
     "data": {
      "text/html": [
       "<pre style=\"white-space:pre;overflow-x:auto;line-height:normal;font-family:Menlo,'DejaVu Sans Mono',consolas,'Courier New',monospace\">Clients: Jacqueline &amp; Nathan Moore <span style=\"font-weight: bold\">(</span>Couple<span style=\"font-weight: bold\">)</span>\n",
       "</pre>\n"
      ],
      "text/plain": [
       "Clients: Jacqueline & Nathan Moore \u001b[1m(\u001b[0mCouple\u001b[1m)\u001b[0m\n"
      ]
     },
     "metadata": {},
     "output_type": "display_data"
    },
    {
     "data": {
      "text/html": [
       "<pre style=\"white-space:pre;overflow-x:auto;line-height:normal;font-family:Menlo,'DejaVu Sans Mono',consolas,'Courier New',monospace\">Occupations: Electrician &amp; Bank Manager\n",
       "</pre>\n"
      ],
      "text/plain": [
       "Occupations: Electrician & Bank Manager\n"
      ]
     },
     "metadata": {},
     "output_type": "display_data"
    },
    {
     "data": {
      "text/html": [
       "<pre style=\"white-space:pre;overflow-x:auto;line-height:normal;font-family:Menlo,'DejaVu Sans Mono',consolas,'Courier New',monospace\">============================================================\n",
       "</pre>\n"
      ],
      "text/plain": [
       "============================================================\n"
      ]
     },
     "metadata": {},
     "output_type": "display_data"
    },
    {
     "data": {
      "text/html": [
       "<pre style=\"white-space:pre;overflow-x:auto;line-height:normal;font-family:Menlo,'DejaVu Sans Mono',consolas,'Courier New',monospace\">🔄 Generating transcript<span style=\"color: #808000; text-decoration-color: #808000\">...</span>\n",
       "</pre>\n"
      ],
      "text/plain": [
       "🔄 Generating transcript\u001b[33m...\u001b[0m\n"
      ]
     },
     "metadata": {},
     "output_type": "display_data"
    },
    {
     "data": {
      "text/html": [
       "<pre style=\"white-space:pre;overflow-x:auto;line-height:normal;font-family:Menlo,'DejaVu Sans Mono',consolas,'Courier New',monospace\">✅ Transcript generated <span style=\"font-weight: bold\">(</span><span style=\"color: #008080; text-decoration-color: #008080; font-weight: bold\">3534</span> characters<span style=\"font-weight: bold\">)</span>\n",
       "</pre>\n"
      ],
      "text/plain": [
       "✅ Transcript generated \u001b[1m(\u001b[0m\u001b[1;36m3534\u001b[0m characters\u001b[1m)\u001b[0m\n"
      ]
     },
     "metadata": {},
     "output_type": "display_data"
    },
    {
     "data": {
      "text/html": [
       "<pre style=\"white-space:pre;overflow-x:auto;line-height:normal;font-family:Menlo,'DejaVu Sans Mono',consolas,'Courier New',monospace\">🔄 Extracting structured data<span style=\"color: #808000; text-decoration-color: #808000\">...</span>\n",
       "</pre>\n"
      ],
      "text/plain": [
       "🔄 Extracting structured data\u001b[33m...\u001b[0m\n"
      ]
     },
     "metadata": {},
     "output_type": "display_data"
    },
    {
     "data": {
      "text/html": [
       "<pre style=\"white-space:pre;overflow-x:auto;line-height:normal;font-family:Menlo,'DejaVu Sans Mono',consolas,'Courier New',monospace\">✅ Structured data extracted successfully\n",
       "</pre>\n"
      ],
      "text/plain": [
       "✅ Structured data extracted successfully\n"
      ]
     },
     "metadata": {},
     "output_type": "display_data"
    },
    {
     "data": {
      "text/html": [
       "<pre style=\"white-space:pre;overflow-x:auto;line-height:normal;font-family:Menlo,'DejaVu Sans Mono',consolas,'Courier New',monospace\">💾 Sample <span style=\"color: #008080; text-decoration-color: #008080; font-weight: bold\">5</span> saved successfully\n",
       "</pre>\n"
      ],
      "text/plain": [
       "💾 Sample \u001b[1;36m5\u001b[0m saved successfully\n"
      ]
     },
     "metadata": {},
     "output_type": "display_data"
    },
    {
     "data": {
      "text/html": [
       "<pre style=\"white-space:pre;overflow-x:auto;line-height:normal;font-family:Menlo,'DejaVu Sans Mono',consolas,'Courier New',monospace\">📊 Stats:\n",
       "</pre>\n"
      ],
      "text/plain": [
       "📊 Stats:\n"
      ]
     },
     "metadata": {},
     "output_type": "display_data"
    },
    {
     "data": {
      "text/html": [
       "<pre style=\"white-space:pre;overflow-x:auto;line-height:normal;font-family:Menlo,'DejaVu Sans Mono',consolas,'Courier New',monospace\">   Household Income: $<span style=\"color: #008080; text-decoration-color: #008080; font-weight: bold\">140</span>,<span style=\"color: #008080; text-decoration-color: #008080; font-weight: bold\">097</span>\n",
       "</pre>\n"
      ],
      "text/plain": [
       "   Household Income: $\u001b[1;36m140\u001b[0m,\u001b[1;36m097\u001b[0m\n"
      ]
     },
     "metadata": {},
     "output_type": "display_data"
    },
    {
     "data": {
      "text/html": [
       "<pre style=\"white-space:pre;overflow-x:auto;line-height:normal;font-family:Menlo,'DejaVu Sans Mono',consolas,'Courier New',monospace\">   Risk Tolerance: Moderate\n",
       "</pre>\n"
      ],
      "text/plain": [
       "   Risk Tolerance: Moderate\n"
      ]
     },
     "metadata": {},
     "output_type": "display_data"
    },
    {
     "data": {
      "text/html": [
       "<pre style=\"white-space:pre;overflow-x:auto;line-height:normal;font-family:Menlo,'DejaVu Sans Mono',consolas,'Courier New',monospace\">   Years to Retirement: <span style=\"color: #008080; text-decoration-color: #008080; font-weight: bold\">3</span>\n",
       "</pre>\n"
      ],
      "text/plain": [
       "   Years to Retirement: \u001b[1;36m3\u001b[0m\n"
      ]
     },
     "metadata": {},
     "output_type": "display_data"
    },
    {
     "data": {
      "text/html": [
       "<pre style=\"white-space:pre;overflow-x:auto;line-height:normal;font-family:Menlo,'DejaVu Sans Mono',consolas,'Courier New',monospace\">   Total Assets: $<span style=\"color: #008080; text-decoration-color: #008080; font-weight: bold\">713</span>,<span style=\"color: #008080; text-decoration-color: #008080; font-weight: bold\">123</span>\n",
       "</pre>\n"
      ],
      "text/plain": [
       "   Total Assets: $\u001b[1;36m713\u001b[0m,\u001b[1;36m123\u001b[0m\n"
      ]
     },
     "metadata": {},
     "output_type": "display_data"
    },
    {
     "data": {
      "text/html": [
       "<pre style=\"white-space:pre;overflow-x:auto;line-height:normal;font-family:Menlo,'DejaVu Sans Mono',consolas,'Courier New',monospace\">\n",
       "============================================================\n",
       "</pre>\n"
      ],
      "text/plain": [
       "\n",
       "============================================================\n"
      ]
     },
     "metadata": {},
     "output_type": "display_data"
    },
    {
     "data": {
      "text/html": [
       "<pre style=\"white-space:pre;overflow-x:auto;line-height:normal;font-family:Menlo,'DejaVu Sans Mono',consolas,'Courier New',monospace\">Generating sample <span style=\"color: #008080; text-decoration-color: #008080; font-weight: bold\">6</span>/<span style=\"color: #008080; text-decoration-color: #008080; font-weight: bold\">13</span>\n",
       "</pre>\n"
      ],
      "text/plain": [
       "Generating sample \u001b[1;36m6\u001b[0m/\u001b[1;36m13\u001b[0m\n"
      ]
     },
     "metadata": {},
     "output_type": "display_data"
    },
    {
     "data": {
      "text/html": [
       "<pre style=\"white-space:pre;overflow-x:auto;line-height:normal;font-family:Menlo,'DejaVu Sans Mono',consolas,'Courier New',monospace\">Clients: Kimberly &amp; Jessica Baker <span style=\"font-weight: bold\">(</span>Couple<span style=\"font-weight: bold\">)</span>\n",
       "</pre>\n"
      ],
      "text/plain": [
       "Clients: Kimberly & Jessica Baker \u001b[1m(\u001b[0mCouple\u001b[1m)\u001b[0m\n"
      ]
     },
     "metadata": {},
     "output_type": "display_data"
    },
    {
     "data": {
      "text/html": [
       "<pre style=\"white-space:pre;overflow-x:auto;line-height:normal;font-family:Menlo,'DejaVu Sans Mono',consolas,'Courier New',monospace\">Occupations: Financial Advisor &amp; Financial Advisor\n",
       "</pre>\n"
      ],
      "text/plain": [
       "Occupations: Financial Advisor & Financial Advisor\n"
      ]
     },
     "metadata": {},
     "output_type": "display_data"
    },
    {
     "data": {
      "text/html": [
       "<pre style=\"white-space:pre;overflow-x:auto;line-height:normal;font-family:Menlo,'DejaVu Sans Mono',consolas,'Courier New',monospace\">============================================================\n",
       "</pre>\n"
      ],
      "text/plain": [
       "============================================================\n"
      ]
     },
     "metadata": {},
     "output_type": "display_data"
    },
    {
     "data": {
      "text/html": [
       "<pre style=\"white-space:pre;overflow-x:auto;line-height:normal;font-family:Menlo,'DejaVu Sans Mono',consolas,'Courier New',monospace\">🔄 Generating transcript<span style=\"color: #808000; text-decoration-color: #808000\">...</span>\n",
       "</pre>\n"
      ],
      "text/plain": [
       "🔄 Generating transcript\u001b[33m...\u001b[0m\n"
      ]
     },
     "metadata": {},
     "output_type": "display_data"
    },
    {
     "data": {
      "text/html": [
       "<pre style=\"white-space:pre;overflow-x:auto;line-height:normal;font-family:Menlo,'DejaVu Sans Mono',consolas,'Courier New',monospace\">✅ Transcript generated <span style=\"font-weight: bold\">(</span><span style=\"color: #008080; text-decoration-color: #008080; font-weight: bold\">3829</span> characters<span style=\"font-weight: bold\">)</span>\n",
       "</pre>\n"
      ],
      "text/plain": [
       "✅ Transcript generated \u001b[1m(\u001b[0m\u001b[1;36m3829\u001b[0m characters\u001b[1m)\u001b[0m\n"
      ]
     },
     "metadata": {},
     "output_type": "display_data"
    },
    {
     "data": {
      "text/html": [
       "<pre style=\"white-space:pre;overflow-x:auto;line-height:normal;font-family:Menlo,'DejaVu Sans Mono',consolas,'Courier New',monospace\">🔄 Extracting structured data<span style=\"color: #808000; text-decoration-color: #808000\">...</span>\n",
       "</pre>\n"
      ],
      "text/plain": [
       "🔄 Extracting structured data\u001b[33m...\u001b[0m\n"
      ]
     },
     "metadata": {},
     "output_type": "display_data"
    },
    {
     "data": {
      "text/html": [
       "<pre style=\"white-space:pre;overflow-x:auto;line-height:normal;font-family:Menlo,'DejaVu Sans Mono',consolas,'Courier New',monospace\">✅ Structured data extracted successfully\n",
       "</pre>\n"
      ],
      "text/plain": [
       "✅ Structured data extracted successfully\n"
      ]
     },
     "metadata": {},
     "output_type": "display_data"
    },
    {
     "data": {
      "text/html": [
       "<pre style=\"white-space:pre;overflow-x:auto;line-height:normal;font-family:Menlo,'DejaVu Sans Mono',consolas,'Courier New',monospace\">💾 Sample <span style=\"color: #008080; text-decoration-color: #008080; font-weight: bold\">6</span> saved successfully\n",
       "</pre>\n"
      ],
      "text/plain": [
       "💾 Sample \u001b[1;36m6\u001b[0m saved successfully\n"
      ]
     },
     "metadata": {},
     "output_type": "display_data"
    },
    {
     "data": {
      "text/html": [
       "<pre style=\"white-space:pre;overflow-x:auto;line-height:normal;font-family:Menlo,'DejaVu Sans Mono',consolas,'Courier New',monospace\">📊 Stats:\n",
       "</pre>\n"
      ],
      "text/plain": [
       "📊 Stats:\n"
      ]
     },
     "metadata": {},
     "output_type": "display_data"
    },
    {
     "data": {
      "text/html": [
       "<pre style=\"white-space:pre;overflow-x:auto;line-height:normal;font-family:Menlo,'DejaVu Sans Mono',consolas,'Courier New',monospace\">   Household Income: $<span style=\"color: #008080; text-decoration-color: #008080; font-weight: bold\">160</span>,<span style=\"color: #008080; text-decoration-color: #008080; font-weight: bold\">807</span>\n",
       "</pre>\n"
      ],
      "text/plain": [
       "   Household Income: $\u001b[1;36m160\u001b[0m,\u001b[1;36m807\u001b[0m\n"
      ]
     },
     "metadata": {},
     "output_type": "display_data"
    },
    {
     "data": {
      "text/html": [
       "<pre style=\"white-space:pre;overflow-x:auto;line-height:normal;font-family:Menlo,'DejaVu Sans Mono',consolas,'Courier New',monospace\">   Risk Tolerance: Moderately Aggressive\n",
       "</pre>\n"
      ],
      "text/plain": [
       "   Risk Tolerance: Moderately Aggressive\n"
      ]
     },
     "metadata": {},
     "output_type": "display_data"
    },
    {
     "data": {
      "text/html": [
       "<pre style=\"white-space:pre;overflow-x:auto;line-height:normal;font-family:Menlo,'DejaVu Sans Mono',consolas,'Courier New',monospace\">   Years to Retirement: <span style=\"color: #008080; text-decoration-color: #008080; font-weight: bold\">3</span>\n",
       "</pre>\n"
      ],
      "text/plain": [
       "   Years to Retirement: \u001b[1;36m3\u001b[0m\n"
      ]
     },
     "metadata": {},
     "output_type": "display_data"
    },
    {
     "data": {
      "text/html": [
       "<pre style=\"white-space:pre;overflow-x:auto;line-height:normal;font-family:Menlo,'DejaVu Sans Mono',consolas,'Courier New',monospace\">   Total Assets: $<span style=\"color: #008080; text-decoration-color: #008080; font-weight: bold\">786</span>,<span style=\"color: #008080; text-decoration-color: #008080; font-weight: bold\">583</span>\n",
       "</pre>\n"
      ],
      "text/plain": [
       "   Total Assets: $\u001b[1;36m786\u001b[0m,\u001b[1;36m583\u001b[0m\n"
      ]
     },
     "metadata": {},
     "output_type": "display_data"
    },
    {
     "data": {
      "text/html": [
       "<pre style=\"white-space:pre;overflow-x:auto;line-height:normal;font-family:Menlo,'DejaVu Sans Mono',consolas,'Courier New',monospace\">\n",
       "============================================================\n",
       "</pre>\n"
      ],
      "text/plain": [
       "\n",
       "============================================================\n"
      ]
     },
     "metadata": {},
     "output_type": "display_data"
    },
    {
     "data": {
      "text/html": [
       "<pre style=\"white-space:pre;overflow-x:auto;line-height:normal;font-family:Menlo,'DejaVu Sans Mono',consolas,'Courier New',monospace\">Generating sample <span style=\"color: #008080; text-decoration-color: #008080; font-weight: bold\">7</span>/<span style=\"color: #008080; text-decoration-color: #008080; font-weight: bold\">13</span>\n",
       "</pre>\n"
      ],
      "text/plain": [
       "Generating sample \u001b[1;36m7\u001b[0m/\u001b[1;36m13\u001b[0m\n"
      ]
     },
     "metadata": {},
     "output_type": "display_data"
    },
    {
     "data": {
      "text/html": [
       "<pre style=\"white-space:pre;overflow-x:auto;line-height:normal;font-family:Menlo,'DejaVu Sans Mono',consolas,'Courier New',monospace\">Clients: William &amp; Jason Espinoza <span style=\"font-weight: bold\">(</span>Couple<span style=\"font-weight: bold\">)</span>\n",
       "</pre>\n"
      ],
      "text/plain": [
       "Clients: William & Jason Espinoza \u001b[1m(\u001b[0mCouple\u001b[1m)\u001b[0m\n"
      ]
     },
     "metadata": {},
     "output_type": "display_data"
    },
    {
     "data": {
      "text/html": [
       "<pre style=\"white-space:pre;overflow-x:auto;line-height:normal;font-family:Menlo,'DejaVu Sans Mono',consolas,'Courier New',monospace\">Occupations: Plumber &amp; Doctor\n",
       "</pre>\n"
      ],
      "text/plain": [
       "Occupations: Plumber & Doctor\n"
      ]
     },
     "metadata": {},
     "output_type": "display_data"
    },
    {
     "data": {
      "text/html": [
       "<pre style=\"white-space:pre;overflow-x:auto;line-height:normal;font-family:Menlo,'DejaVu Sans Mono',consolas,'Courier New',monospace\">============================================================\n",
       "</pre>\n"
      ],
      "text/plain": [
       "============================================================\n"
      ]
     },
     "metadata": {},
     "output_type": "display_data"
    },
    {
     "data": {
      "text/html": [
       "<pre style=\"white-space:pre;overflow-x:auto;line-height:normal;font-family:Menlo,'DejaVu Sans Mono',consolas,'Courier New',monospace\">🔄 Generating transcript<span style=\"color: #808000; text-decoration-color: #808000\">...</span>\n",
       "</pre>\n"
      ],
      "text/plain": [
       "🔄 Generating transcript\u001b[33m...\u001b[0m\n"
      ]
     },
     "metadata": {},
     "output_type": "display_data"
    },
    {
     "data": {
      "text/html": [
       "<pre style=\"white-space:pre;overflow-x:auto;line-height:normal;font-family:Menlo,'DejaVu Sans Mono',consolas,'Courier New',monospace\">✅ Transcript generated <span style=\"font-weight: bold\">(</span><span style=\"color: #008080; text-decoration-color: #008080; font-weight: bold\">4105</span> characters<span style=\"font-weight: bold\">)</span>\n",
       "</pre>\n"
      ],
      "text/plain": [
       "✅ Transcript generated \u001b[1m(\u001b[0m\u001b[1;36m4105\u001b[0m characters\u001b[1m)\u001b[0m\n"
      ]
     },
     "metadata": {},
     "output_type": "display_data"
    },
    {
     "data": {
      "text/html": [
       "<pre style=\"white-space:pre;overflow-x:auto;line-height:normal;font-family:Menlo,'DejaVu Sans Mono',consolas,'Courier New',monospace\">🔄 Extracting structured data<span style=\"color: #808000; text-decoration-color: #808000\">...</span>\n",
       "</pre>\n"
      ],
      "text/plain": [
       "🔄 Extracting structured data\u001b[33m...\u001b[0m\n"
      ]
     },
     "metadata": {},
     "output_type": "display_data"
    },
    {
     "data": {
      "text/html": [
       "<pre style=\"white-space:pre;overflow-x:auto;line-height:normal;font-family:Menlo,'DejaVu Sans Mono',consolas,'Courier New',monospace\">✅ Structured data extracted successfully\n",
       "</pre>\n"
      ],
      "text/plain": [
       "✅ Structured data extracted successfully\n"
      ]
     },
     "metadata": {},
     "output_type": "display_data"
    },
    {
     "data": {
      "text/html": [
       "<pre style=\"white-space:pre;overflow-x:auto;line-height:normal;font-family:Menlo,'DejaVu Sans Mono',consolas,'Courier New',monospace\">💾 Sample <span style=\"color: #008080; text-decoration-color: #008080; font-weight: bold\">7</span> saved successfully\n",
       "</pre>\n"
      ],
      "text/plain": [
       "💾 Sample \u001b[1;36m7\u001b[0m saved successfully\n"
      ]
     },
     "metadata": {},
     "output_type": "display_data"
    },
    {
     "data": {
      "text/html": [
       "<pre style=\"white-space:pre;overflow-x:auto;line-height:normal;font-family:Menlo,'DejaVu Sans Mono',consolas,'Courier New',monospace\">📊 Stats:\n",
       "</pre>\n"
      ],
      "text/plain": [
       "📊 Stats:\n"
      ]
     },
     "metadata": {},
     "output_type": "display_data"
    },
    {
     "data": {
      "text/html": [
       "<pre style=\"white-space:pre;overflow-x:auto;line-height:normal;font-family:Menlo,'DejaVu Sans Mono',consolas,'Courier New',monospace\">   Household Income: $<span style=\"color: #008080; text-decoration-color: #008080; font-weight: bold\">287</span>,<span style=\"color: #008080; text-decoration-color: #008080; font-weight: bold\">461</span>\n",
       "</pre>\n"
      ],
      "text/plain": [
       "   Household Income: $\u001b[1;36m287\u001b[0m,\u001b[1;36m461\u001b[0m\n"
      ]
     },
     "metadata": {},
     "output_type": "display_data"
    },
    {
     "data": {
      "text/html": [
       "<pre style=\"white-space:pre;overflow-x:auto;line-height:normal;font-family:Menlo,'DejaVu Sans Mono',consolas,'Courier New',monospace\">   Risk Tolerance: Moderate\n",
       "</pre>\n"
      ],
      "text/plain": [
       "   Risk Tolerance: Moderate\n"
      ]
     },
     "metadata": {},
     "output_type": "display_data"
    },
    {
     "data": {
      "text/html": [
       "<pre style=\"white-space:pre;overflow-x:auto;line-height:normal;font-family:Menlo,'DejaVu Sans Mono',consolas,'Courier New',monospace\">   Years to Retirement: <span style=\"color: #008080; text-decoration-color: #008080; font-weight: bold\">12</span>\n",
       "</pre>\n"
      ],
      "text/plain": [
       "   Years to Retirement: \u001b[1;36m12\u001b[0m\n"
      ]
     },
     "metadata": {},
     "output_type": "display_data"
    },
    {
     "data": {
      "text/html": [
       "<pre style=\"white-space:pre;overflow-x:auto;line-height:normal;font-family:Menlo,'DejaVu Sans Mono',consolas,'Courier New',monospace\">   Total Assets: $<span style=\"color: #008080; text-decoration-color: #008080; font-weight: bold\">596</span>,<span style=\"color: #008080; text-decoration-color: #008080; font-weight: bold\">790</span>\n",
       "</pre>\n"
      ],
      "text/plain": [
       "   Total Assets: $\u001b[1;36m596\u001b[0m,\u001b[1;36m790\u001b[0m\n"
      ]
     },
     "metadata": {},
     "output_type": "display_data"
    },
    {
     "data": {
      "text/html": [
       "<pre style=\"white-space:pre;overflow-x:auto;line-height:normal;font-family:Menlo,'DejaVu Sans Mono',consolas,'Courier New',monospace\">\n",
       "============================================================\n",
       "</pre>\n"
      ],
      "text/plain": [
       "\n",
       "============================================================\n"
      ]
     },
     "metadata": {},
     "output_type": "display_data"
    },
    {
     "data": {
      "text/html": [
       "<pre style=\"white-space:pre;overflow-x:auto;line-height:normal;font-family:Menlo,'DejaVu Sans Mono',consolas,'Courier New',monospace\">Generating sample <span style=\"color: #008080; text-decoration-color: #008080; font-weight: bold\">8</span>/<span style=\"color: #008080; text-decoration-color: #008080; font-weight: bold\">13</span>\n",
       "</pre>\n"
      ],
      "text/plain": [
       "Generating sample \u001b[1;36m8\u001b[0m/\u001b[1;36m13\u001b[0m\n"
      ]
     },
     "metadata": {},
     "output_type": "display_data"
    },
    {
     "data": {
      "text/html": [
       "<pre style=\"white-space:pre;overflow-x:auto;line-height:normal;font-family:Menlo,'DejaVu Sans Mono',consolas,'Courier New',monospace\">Clients: Casey &amp; Kathryn Tran <span style=\"font-weight: bold\">(</span>Couple<span style=\"font-weight: bold\">)</span>\n",
       "</pre>\n"
      ],
      "text/plain": [
       "Clients: Casey & Kathryn Tran \u001b[1m(\u001b[0mCouple\u001b[1m)\u001b[0m\n"
      ]
     },
     "metadata": {},
     "output_type": "display_data"
    },
    {
     "data": {
      "text/html": [
       "<pre style=\"white-space:pre;overflow-x:auto;line-height:normal;font-family:Menlo,'DejaVu Sans Mono',consolas,'Courier New',monospace\">Occupations: Electrician &amp; Doctor\n",
       "</pre>\n"
      ],
      "text/plain": [
       "Occupations: Electrician & Doctor\n"
      ]
     },
     "metadata": {},
     "output_type": "display_data"
    },
    {
     "data": {
      "text/html": [
       "<pre style=\"white-space:pre;overflow-x:auto;line-height:normal;font-family:Menlo,'DejaVu Sans Mono',consolas,'Courier New',monospace\">============================================================\n",
       "</pre>\n"
      ],
      "text/plain": [
       "============================================================\n"
      ]
     },
     "metadata": {},
     "output_type": "display_data"
    },
    {
     "data": {
      "text/html": [
       "<pre style=\"white-space:pre;overflow-x:auto;line-height:normal;font-family:Menlo,'DejaVu Sans Mono',consolas,'Courier New',monospace\">🔄 Generating transcript<span style=\"color: #808000; text-decoration-color: #808000\">...</span>\n",
       "</pre>\n"
      ],
      "text/plain": [
       "🔄 Generating transcript\u001b[33m...\u001b[0m\n"
      ]
     },
     "metadata": {},
     "output_type": "display_data"
    },
    {
     "data": {
      "text/html": [
       "<pre style=\"white-space:pre;overflow-x:auto;line-height:normal;font-family:Menlo,'DejaVu Sans Mono',consolas,'Courier New',monospace\">✅ Transcript generated <span style=\"font-weight: bold\">(</span><span style=\"color: #008080; text-decoration-color: #008080; font-weight: bold\">4104</span> characters<span style=\"font-weight: bold\">)</span>\n",
       "</pre>\n"
      ],
      "text/plain": [
       "✅ Transcript generated \u001b[1m(\u001b[0m\u001b[1;36m4104\u001b[0m characters\u001b[1m)\u001b[0m\n"
      ]
     },
     "metadata": {},
     "output_type": "display_data"
    },
    {
     "data": {
      "text/html": [
       "<pre style=\"white-space:pre;overflow-x:auto;line-height:normal;font-family:Menlo,'DejaVu Sans Mono',consolas,'Courier New',monospace\">🔄 Extracting structured data<span style=\"color: #808000; text-decoration-color: #808000\">...</span>\n",
       "</pre>\n"
      ],
      "text/plain": [
       "🔄 Extracting structured data\u001b[33m...\u001b[0m\n"
      ]
     },
     "metadata": {},
     "output_type": "display_data"
    },
    {
     "data": {
      "text/html": [
       "<pre style=\"white-space:pre;overflow-x:auto;line-height:normal;font-family:Menlo,'DejaVu Sans Mono',consolas,'Courier New',monospace\">✅ Structured data extracted successfully\n",
       "</pre>\n"
      ],
      "text/plain": [
       "✅ Structured data extracted successfully\n"
      ]
     },
     "metadata": {},
     "output_type": "display_data"
    },
    {
     "data": {
      "text/html": [
       "<pre style=\"white-space:pre;overflow-x:auto;line-height:normal;font-family:Menlo,'DejaVu Sans Mono',consolas,'Courier New',monospace\">💾 Sample <span style=\"color: #008080; text-decoration-color: #008080; font-weight: bold\">8</span> saved successfully\n",
       "</pre>\n"
      ],
      "text/plain": [
       "💾 Sample \u001b[1;36m8\u001b[0m saved successfully\n"
      ]
     },
     "metadata": {},
     "output_type": "display_data"
    },
    {
     "data": {
      "text/html": [
       "<pre style=\"white-space:pre;overflow-x:auto;line-height:normal;font-family:Menlo,'DejaVu Sans Mono',consolas,'Courier New',monospace\">📊 Stats:\n",
       "</pre>\n"
      ],
      "text/plain": [
       "📊 Stats:\n"
      ]
     },
     "metadata": {},
     "output_type": "display_data"
    },
    {
     "data": {
      "text/html": [
       "<pre style=\"white-space:pre;overflow-x:auto;line-height:normal;font-family:Menlo,'DejaVu Sans Mono',consolas,'Courier New',monospace\">   Household Income: $<span style=\"color: #008080; text-decoration-color: #008080; font-weight: bold\">315</span>,<span style=\"color: #008080; text-decoration-color: #008080; font-weight: bold\">520</span>\n",
       "</pre>\n"
      ],
      "text/plain": [
       "   Household Income: $\u001b[1;36m315\u001b[0m,\u001b[1;36m520\u001b[0m\n"
      ]
     },
     "metadata": {},
     "output_type": "display_data"
    },
    {
     "data": {
      "text/html": [
       "<pre style=\"white-space:pre;overflow-x:auto;line-height:normal;font-family:Menlo,'DejaVu Sans Mono',consolas,'Courier New',monospace\">   Risk Tolerance: Moderately Aggressive\n",
       "</pre>\n"
      ],
      "text/plain": [
       "   Risk Tolerance: Moderately Aggressive\n"
      ]
     },
     "metadata": {},
     "output_type": "display_data"
    },
    {
     "data": {
      "text/html": [
       "<pre style=\"white-space:pre;overflow-x:auto;line-height:normal;font-family:Menlo,'DejaVu Sans Mono',consolas,'Courier New',monospace\">   Years to Retirement: <span style=\"color: #008080; text-decoration-color: #008080; font-weight: bold\">5</span>\n",
       "</pre>\n"
      ],
      "text/plain": [
       "   Years to Retirement: \u001b[1;36m5\u001b[0m\n"
      ]
     },
     "metadata": {},
     "output_type": "display_data"
    },
    {
     "data": {
      "text/html": [
       "<pre style=\"white-space:pre;overflow-x:auto;line-height:normal;font-family:Menlo,'DejaVu Sans Mono',consolas,'Courier New',monospace\">   Total Assets: $<span style=\"color: #008080; text-decoration-color: #008080; font-weight: bold\">441</span>,<span style=\"color: #008080; text-decoration-color: #008080; font-weight: bold\">858</span>\n",
       "</pre>\n"
      ],
      "text/plain": [
       "   Total Assets: $\u001b[1;36m441\u001b[0m,\u001b[1;36m858\u001b[0m\n"
      ]
     },
     "metadata": {},
     "output_type": "display_data"
    },
    {
     "data": {
      "text/html": [
       "<pre style=\"white-space:pre;overflow-x:auto;line-height:normal;font-family:Menlo,'DejaVu Sans Mono',consolas,'Courier New',monospace\">\n",
       "============================================================\n",
       "</pre>\n"
      ],
      "text/plain": [
       "\n",
       "============================================================\n"
      ]
     },
     "metadata": {},
     "output_type": "display_data"
    },
    {
     "data": {
      "text/html": [
       "<pre style=\"white-space:pre;overflow-x:auto;line-height:normal;font-family:Menlo,'DejaVu Sans Mono',consolas,'Courier New',monospace\">Generating sample <span style=\"color: #008080; text-decoration-color: #008080; font-weight: bold\">9</span>/<span style=\"color: #008080; text-decoration-color: #008080; font-weight: bold\">13</span>\n",
       "</pre>\n"
      ],
      "text/plain": [
       "Generating sample \u001b[1;36m9\u001b[0m/\u001b[1;36m13\u001b[0m\n"
      ]
     },
     "metadata": {},
     "output_type": "display_data"
    },
    {
     "data": {
      "text/html": [
       "<pre style=\"white-space:pre;overflow-x:auto;line-height:normal;font-family:Menlo,'DejaVu Sans Mono',consolas,'Courier New',monospace\">Client: Kaitlyn Peterson <span style=\"font-weight: bold\">(</span>Single - Divorced<span style=\"font-weight: bold\">)</span>\n",
       "</pre>\n"
      ],
      "text/plain": [
       "Client: Kaitlyn Peterson \u001b[1m(\u001b[0mSingle - Divorced\u001b[1m)\u001b[0m\n"
      ]
     },
     "metadata": {},
     "output_type": "display_data"
    },
    {
     "data": {
      "text/html": [
       "<pre style=\"white-space:pre;overflow-x:auto;line-height:normal;font-family:Menlo,'DejaVu Sans Mono',consolas,'Courier New',monospace\">Occupation: Police Officer\n",
       "</pre>\n"
      ],
      "text/plain": [
       "Occupation: Police Officer\n"
      ]
     },
     "metadata": {},
     "output_type": "display_data"
    },
    {
     "data": {
      "text/html": [
       "<pre style=\"white-space:pre;overflow-x:auto;line-height:normal;font-family:Menlo,'DejaVu Sans Mono',consolas,'Courier New',monospace\">============================================================\n",
       "</pre>\n"
      ],
      "text/plain": [
       "============================================================\n"
      ]
     },
     "metadata": {},
     "output_type": "display_data"
    },
    {
     "data": {
      "text/html": [
       "<pre style=\"white-space:pre;overflow-x:auto;line-height:normal;font-family:Menlo,'DejaVu Sans Mono',consolas,'Courier New',monospace\">🔄 Generating transcript<span style=\"color: #808000; text-decoration-color: #808000\">...</span>\n",
       "</pre>\n"
      ],
      "text/plain": [
       "🔄 Generating transcript\u001b[33m...\u001b[0m\n"
      ]
     },
     "metadata": {},
     "output_type": "display_data"
    },
    {
     "data": {
      "text/html": [
       "<pre style=\"white-space:pre;overflow-x:auto;line-height:normal;font-family:Menlo,'DejaVu Sans Mono',consolas,'Courier New',monospace\">✅ Transcript generated <span style=\"font-weight: bold\">(</span><span style=\"color: #008080; text-decoration-color: #008080; font-weight: bold\">3401</span> characters<span style=\"font-weight: bold\">)</span>\n",
       "</pre>\n"
      ],
      "text/plain": [
       "✅ Transcript generated \u001b[1m(\u001b[0m\u001b[1;36m3401\u001b[0m characters\u001b[1m)\u001b[0m\n"
      ]
     },
     "metadata": {},
     "output_type": "display_data"
    },
    {
     "data": {
      "text/html": [
       "<pre style=\"white-space:pre;overflow-x:auto;line-height:normal;font-family:Menlo,'DejaVu Sans Mono',consolas,'Courier New',monospace\">🔄 Extracting structured data<span style=\"color: #808000; text-decoration-color: #808000\">...</span>\n",
       "</pre>\n"
      ],
      "text/plain": [
       "🔄 Extracting structured data\u001b[33m...\u001b[0m\n"
      ]
     },
     "metadata": {},
     "output_type": "display_data"
    },
    {
     "data": {
      "text/html": [
       "<pre style=\"white-space:pre;overflow-x:auto;line-height:normal;font-family:Menlo,'DejaVu Sans Mono',consolas,'Courier New',monospace\">✅ Structured data extracted successfully\n",
       "</pre>\n"
      ],
      "text/plain": [
       "✅ Structured data extracted successfully\n"
      ]
     },
     "metadata": {},
     "output_type": "display_data"
    },
    {
     "data": {
      "text/html": [
       "<pre style=\"white-space:pre;overflow-x:auto;line-height:normal;font-family:Menlo,'DejaVu Sans Mono',consolas,'Courier New',monospace\">💾 Sample <span style=\"color: #008080; text-decoration-color: #008080; font-weight: bold\">9</span> saved successfully\n",
       "</pre>\n"
      ],
      "text/plain": [
       "💾 Sample \u001b[1;36m9\u001b[0m saved successfully\n"
      ]
     },
     "metadata": {},
     "output_type": "display_data"
    },
    {
     "data": {
      "text/html": [
       "<pre style=\"white-space:pre;overflow-x:auto;line-height:normal;font-family:Menlo,'DejaVu Sans Mono',consolas,'Courier New',monospace\">📊 Stats:\n",
       "</pre>\n"
      ],
      "text/plain": [
       "📊 Stats:\n"
      ]
     },
     "metadata": {},
     "output_type": "display_data"
    },
    {
     "data": {
      "text/html": [
       "<pre style=\"white-space:pre;overflow-x:auto;line-height:normal;font-family:Menlo,'DejaVu Sans Mono',consolas,'Courier New',monospace\">   Household Income: $<span style=\"color: #008080; text-decoration-color: #008080; font-weight: bold\">68</span>,<span style=\"color: #008080; text-decoration-color: #008080; font-weight: bold\">564</span>\n",
       "</pre>\n"
      ],
      "text/plain": [
       "   Household Income: $\u001b[1;36m68\u001b[0m,\u001b[1;36m564\u001b[0m\n"
      ]
     },
     "metadata": {},
     "output_type": "display_data"
    },
    {
     "data": {
      "text/html": [
       "<pre style=\"white-space:pre;overflow-x:auto;line-height:normal;font-family:Menlo,'DejaVu Sans Mono',consolas,'Courier New',monospace\">   Risk Tolerance: Conservative\n",
       "</pre>\n"
      ],
      "text/plain": [
       "   Risk Tolerance: Conservative\n"
      ]
     },
     "metadata": {},
     "output_type": "display_data"
    },
    {
     "data": {
      "text/html": [
       "<pre style=\"white-space:pre;overflow-x:auto;line-height:normal;font-family:Menlo,'DejaVu Sans Mono',consolas,'Courier New',monospace\">   Years to Retirement: <span style=\"color: #008080; text-decoration-color: #008080; font-weight: bold\">3</span>\n",
       "</pre>\n"
      ],
      "text/plain": [
       "   Years to Retirement: \u001b[1;36m3\u001b[0m\n"
      ]
     },
     "metadata": {},
     "output_type": "display_data"
    },
    {
     "data": {
      "text/html": [
       "<pre style=\"white-space:pre;overflow-x:auto;line-height:normal;font-family:Menlo,'DejaVu Sans Mono',consolas,'Courier New',monospace\">   Total Assets: $<span style=\"color: #008080; text-decoration-color: #008080; font-weight: bold\">929</span>,<span style=\"color: #008080; text-decoration-color: #008080; font-weight: bold\">039</span>\n",
       "</pre>\n"
      ],
      "text/plain": [
       "   Total Assets: $\u001b[1;36m929\u001b[0m,\u001b[1;36m039\u001b[0m\n"
      ]
     },
     "metadata": {},
     "output_type": "display_data"
    },
    {
     "data": {
      "text/html": [
       "<pre style=\"white-space:pre;overflow-x:auto;line-height:normal;font-family:Menlo,'DejaVu Sans Mono',consolas,'Courier New',monospace\">\n",
       "============================================================\n",
       "</pre>\n"
      ],
      "text/plain": [
       "\n",
       "============================================================\n"
      ]
     },
     "metadata": {},
     "output_type": "display_data"
    },
    {
     "data": {
      "text/html": [
       "<pre style=\"white-space:pre;overflow-x:auto;line-height:normal;font-family:Menlo,'DejaVu Sans Mono',consolas,'Courier New',monospace\">Generating sample <span style=\"color: #008080; text-decoration-color: #008080; font-weight: bold\">10</span>/<span style=\"color: #008080; text-decoration-color: #008080; font-weight: bold\">13</span>\n",
       "</pre>\n"
      ],
      "text/plain": [
       "Generating sample \u001b[1;36m10\u001b[0m/\u001b[1;36m13\u001b[0m\n"
      ]
     },
     "metadata": {},
     "output_type": "display_data"
    },
    {
     "data": {
      "text/html": [
       "<pre style=\"white-space:pre;overflow-x:auto;line-height:normal;font-family:Menlo,'DejaVu Sans Mono',consolas,'Courier New',monospace\">Clients: Michael &amp; Peter Phillips <span style=\"font-weight: bold\">(</span>Couple<span style=\"font-weight: bold\">)</span>\n",
       "</pre>\n"
      ],
      "text/plain": [
       "Clients: Michael & Peter Phillips \u001b[1m(\u001b[0mCouple\u001b[1m)\u001b[0m\n"
      ]
     },
     "metadata": {},
     "output_type": "display_data"
    },
    {
     "data": {
      "text/html": [
       "<pre style=\"white-space:pre;overflow-x:auto;line-height:normal;font-family:Menlo,'DejaVu Sans Mono',consolas,'Courier New',monospace\">Occupations: Police Officer &amp; Chef\n",
       "</pre>\n"
      ],
      "text/plain": [
       "Occupations: Police Officer & Chef\n"
      ]
     },
     "metadata": {},
     "output_type": "display_data"
    },
    {
     "data": {
      "text/html": [
       "<pre style=\"white-space:pre;overflow-x:auto;line-height:normal;font-family:Menlo,'DejaVu Sans Mono',consolas,'Courier New',monospace\">============================================================\n",
       "</pre>\n"
      ],
      "text/plain": [
       "============================================================\n"
      ]
     },
     "metadata": {},
     "output_type": "display_data"
    },
    {
     "data": {
      "text/html": [
       "<pre style=\"white-space:pre;overflow-x:auto;line-height:normal;font-family:Menlo,'DejaVu Sans Mono',consolas,'Courier New',monospace\">🔄 Generating transcript<span style=\"color: #808000; text-decoration-color: #808000\">...</span>\n",
       "</pre>\n"
      ],
      "text/plain": [
       "🔄 Generating transcript\u001b[33m...\u001b[0m\n"
      ]
     },
     "metadata": {},
     "output_type": "display_data"
    },
    {
     "data": {
      "text/html": [
       "<pre style=\"white-space:pre;overflow-x:auto;line-height:normal;font-family:Menlo,'DejaVu Sans Mono',consolas,'Courier New',monospace\">✅ Transcript generated <span style=\"font-weight: bold\">(</span><span style=\"color: #008080; text-decoration-color: #008080; font-weight: bold\">3942</span> characters<span style=\"font-weight: bold\">)</span>\n",
       "</pre>\n"
      ],
      "text/plain": [
       "✅ Transcript generated \u001b[1m(\u001b[0m\u001b[1;36m3942\u001b[0m characters\u001b[1m)\u001b[0m\n"
      ]
     },
     "metadata": {},
     "output_type": "display_data"
    },
    {
     "data": {
      "text/html": [
       "<pre style=\"white-space:pre;overflow-x:auto;line-height:normal;font-family:Menlo,'DejaVu Sans Mono',consolas,'Courier New',monospace\">🔄 Extracting structured data<span style=\"color: #808000; text-decoration-color: #808000\">...</span>\n",
       "</pre>\n"
      ],
      "text/plain": [
       "🔄 Extracting structured data\u001b[33m...\u001b[0m\n"
      ]
     },
     "metadata": {},
     "output_type": "display_data"
    },
    {
     "data": {
      "text/html": [
       "<pre style=\"white-space:pre;overflow-x:auto;line-height:normal;font-family:Menlo,'DejaVu Sans Mono',consolas,'Courier New',monospace\">✅ Structured data extracted successfully\n",
       "</pre>\n"
      ],
      "text/plain": [
       "✅ Structured data extracted successfully\n"
      ]
     },
     "metadata": {},
     "output_type": "display_data"
    },
    {
     "data": {
      "text/html": [
       "<pre style=\"white-space:pre;overflow-x:auto;line-height:normal;font-family:Menlo,'DejaVu Sans Mono',consolas,'Courier New',monospace\">💾 Sample <span style=\"color: #008080; text-decoration-color: #008080; font-weight: bold\">10</span> saved successfully\n",
       "</pre>\n"
      ],
      "text/plain": [
       "💾 Sample \u001b[1;36m10\u001b[0m saved successfully\n"
      ]
     },
     "metadata": {},
     "output_type": "display_data"
    },
    {
     "data": {
      "text/html": [
       "<pre style=\"white-space:pre;overflow-x:auto;line-height:normal;font-family:Menlo,'DejaVu Sans Mono',consolas,'Courier New',monospace\">📊 Stats:\n",
       "</pre>\n"
      ],
      "text/plain": [
       "📊 Stats:\n"
      ]
     },
     "metadata": {},
     "output_type": "display_data"
    },
    {
     "data": {
      "text/html": [
       "<pre style=\"white-space:pre;overflow-x:auto;line-height:normal;font-family:Menlo,'DejaVu Sans Mono',consolas,'Courier New',monospace\">   Household Income: $<span style=\"color: #008080; text-decoration-color: #008080; font-weight: bold\">127</span>,<span style=\"color: #008080; text-decoration-color: #008080; font-weight: bold\">566</span>\n",
       "</pre>\n"
      ],
      "text/plain": [
       "   Household Income: $\u001b[1;36m127\u001b[0m,\u001b[1;36m566\u001b[0m\n"
      ]
     },
     "metadata": {},
     "output_type": "display_data"
    },
    {
     "data": {
      "text/html": [
       "<pre style=\"white-space:pre;overflow-x:auto;line-height:normal;font-family:Menlo,'DejaVu Sans Mono',consolas,'Courier New',monospace\">   Risk Tolerance: Moderate\n",
       "</pre>\n"
      ],
      "text/plain": [
       "   Risk Tolerance: Moderate\n"
      ]
     },
     "metadata": {},
     "output_type": "display_data"
    },
    {
     "data": {
      "text/html": [
       "<pre style=\"white-space:pre;overflow-x:auto;line-height:normal;font-family:Menlo,'DejaVu Sans Mono',consolas,'Courier New',monospace\">   Years to Retirement: <span style=\"color: #008080; text-decoration-color: #008080; font-weight: bold\">12</span>\n",
       "</pre>\n"
      ],
      "text/plain": [
       "   Years to Retirement: \u001b[1;36m12\u001b[0m\n"
      ]
     },
     "metadata": {},
     "output_type": "display_data"
    },
    {
     "data": {
      "text/html": [
       "<pre style=\"white-space:pre;overflow-x:auto;line-height:normal;font-family:Menlo,'DejaVu Sans Mono',consolas,'Courier New',monospace\">   Total Assets: $<span style=\"color: #008080; text-decoration-color: #008080; font-weight: bold\">428</span>,<span style=\"color: #008080; text-decoration-color: #008080; font-weight: bold\">312</span>\n",
       "</pre>\n"
      ],
      "text/plain": [
       "   Total Assets: $\u001b[1;36m428\u001b[0m,\u001b[1;36m312\u001b[0m\n"
      ]
     },
     "metadata": {},
     "output_type": "display_data"
    },
    {
     "data": {
      "text/html": [
       "<pre style=\"white-space:pre;overflow-x:auto;line-height:normal;font-family:Menlo,'DejaVu Sans Mono',consolas,'Courier New',monospace\">\n",
       "============================================================\n",
       "</pre>\n"
      ],
      "text/plain": [
       "\n",
       "============================================================\n"
      ]
     },
     "metadata": {},
     "output_type": "display_data"
    },
    {
     "data": {
      "text/html": [
       "<pre style=\"white-space:pre;overflow-x:auto;line-height:normal;font-family:Menlo,'DejaVu Sans Mono',consolas,'Courier New',monospace\">Generating sample <span style=\"color: #008080; text-decoration-color: #008080; font-weight: bold\">11</span>/<span style=\"color: #008080; text-decoration-color: #008080; font-weight: bold\">13</span>\n",
       "</pre>\n"
      ],
      "text/plain": [
       "Generating sample \u001b[1;36m11\u001b[0m/\u001b[1;36m13\u001b[0m\n"
      ]
     },
     "metadata": {},
     "output_type": "display_data"
    },
    {
     "data": {
      "text/html": [
       "<pre style=\"white-space:pre;overflow-x:auto;line-height:normal;font-family:Menlo,'DejaVu Sans Mono',consolas,'Courier New',monospace\">Clients: Michael &amp; Amber Garcia <span style=\"font-weight: bold\">(</span>Couple<span style=\"font-weight: bold\">)</span>\n",
       "</pre>\n"
      ],
      "text/plain": [
       "Clients: Michael & Amber Garcia \u001b[1m(\u001b[0mCouple\u001b[1m)\u001b[0m\n"
      ]
     },
     "metadata": {},
     "output_type": "display_data"
    },
    {
     "data": {
      "text/html": [
       "<pre style=\"white-space:pre;overflow-x:auto;line-height:normal;font-family:Menlo,'DejaVu Sans Mono',consolas,'Courier New',monospace\">Occupations: Doctor &amp; Firefighter\n",
       "</pre>\n"
      ],
      "text/plain": [
       "Occupations: Doctor & Firefighter\n"
      ]
     },
     "metadata": {},
     "output_type": "display_data"
    },
    {
     "data": {
      "text/html": [
       "<pre style=\"white-space:pre;overflow-x:auto;line-height:normal;font-family:Menlo,'DejaVu Sans Mono',consolas,'Courier New',monospace\">============================================================\n",
       "</pre>\n"
      ],
      "text/plain": [
       "============================================================\n"
      ]
     },
     "metadata": {},
     "output_type": "display_data"
    },
    {
     "data": {
      "text/html": [
       "<pre style=\"white-space:pre;overflow-x:auto;line-height:normal;font-family:Menlo,'DejaVu Sans Mono',consolas,'Courier New',monospace\">🔄 Generating transcript<span style=\"color: #808000; text-decoration-color: #808000\">...</span>\n",
       "</pre>\n"
      ],
      "text/plain": [
       "🔄 Generating transcript\u001b[33m...\u001b[0m\n"
      ]
     },
     "metadata": {},
     "output_type": "display_data"
    },
    {
     "data": {
      "text/html": [
       "<pre style=\"white-space:pre;overflow-x:auto;line-height:normal;font-family:Menlo,'DejaVu Sans Mono',consolas,'Courier New',monospace\">✅ Transcript generated <span style=\"font-weight: bold\">(</span><span style=\"color: #008080; text-decoration-color: #008080; font-weight: bold\">3919</span> characters<span style=\"font-weight: bold\">)</span>\n",
       "</pre>\n"
      ],
      "text/plain": [
       "✅ Transcript generated \u001b[1m(\u001b[0m\u001b[1;36m3919\u001b[0m characters\u001b[1m)\u001b[0m\n"
      ]
     },
     "metadata": {},
     "output_type": "display_data"
    },
    {
     "data": {
      "text/html": [
       "<pre style=\"white-space:pre;overflow-x:auto;line-height:normal;font-family:Menlo,'DejaVu Sans Mono',consolas,'Courier New',monospace\">🔄 Extracting structured data<span style=\"color: #808000; text-decoration-color: #808000\">...</span>\n",
       "</pre>\n"
      ],
      "text/plain": [
       "🔄 Extracting structured data\u001b[33m...\u001b[0m\n"
      ]
     },
     "metadata": {},
     "output_type": "display_data"
    },
    {
     "data": {
      "text/html": [
       "<pre style=\"white-space:pre;overflow-x:auto;line-height:normal;font-family:Menlo,'DejaVu Sans Mono',consolas,'Courier New',monospace\">✅ Structured data extracted successfully\n",
       "</pre>\n"
      ],
      "text/plain": [
       "✅ Structured data extracted successfully\n"
      ]
     },
     "metadata": {},
     "output_type": "display_data"
    },
    {
     "data": {
      "text/html": [
       "<pre style=\"white-space:pre;overflow-x:auto;line-height:normal;font-family:Menlo,'DejaVu Sans Mono',consolas,'Courier New',monospace\">💾 Sample <span style=\"color: #008080; text-decoration-color: #008080; font-weight: bold\">11</span> saved successfully\n",
       "</pre>\n"
      ],
      "text/plain": [
       "💾 Sample \u001b[1;36m11\u001b[0m saved successfully\n"
      ]
     },
     "metadata": {},
     "output_type": "display_data"
    },
    {
     "data": {
      "text/html": [
       "<pre style=\"white-space:pre;overflow-x:auto;line-height:normal;font-family:Menlo,'DejaVu Sans Mono',consolas,'Courier New',monospace\">📊 Stats:\n",
       "</pre>\n"
      ],
      "text/plain": [
       "📊 Stats:\n"
      ]
     },
     "metadata": {},
     "output_type": "display_data"
    },
    {
     "data": {
      "text/html": [
       "<pre style=\"white-space:pre;overflow-x:auto;line-height:normal;font-family:Menlo,'DejaVu Sans Mono',consolas,'Courier New',monospace\">   Household Income: $<span style=\"color: #008080; text-decoration-color: #008080; font-weight: bold\">347</span>,<span style=\"color: #008080; text-decoration-color: #008080; font-weight: bold\">047</span>\n",
       "</pre>\n"
      ],
      "text/plain": [
       "   Household Income: $\u001b[1;36m347\u001b[0m,\u001b[1;36m047\u001b[0m\n"
      ]
     },
     "metadata": {},
     "output_type": "display_data"
    },
    {
     "data": {
      "text/html": [
       "<pre style=\"white-space:pre;overflow-x:auto;line-height:normal;font-family:Menlo,'DejaVu Sans Mono',consolas,'Courier New',monospace\">   Risk Tolerance: Moderate\n",
       "</pre>\n"
      ],
      "text/plain": [
       "   Risk Tolerance: Moderate\n"
      ]
     },
     "metadata": {},
     "output_type": "display_data"
    },
    {
     "data": {
      "text/html": [
       "<pre style=\"white-space:pre;overflow-x:auto;line-height:normal;font-family:Menlo,'DejaVu Sans Mono',consolas,'Courier New',monospace\">   Years to Retirement: <span style=\"color: #008080; text-decoration-color: #008080; font-weight: bold\">4</span>\n",
       "</pre>\n"
      ],
      "text/plain": [
       "   Years to Retirement: \u001b[1;36m4\u001b[0m\n"
      ]
     },
     "metadata": {},
     "output_type": "display_data"
    },
    {
     "data": {
      "text/html": [
       "<pre style=\"white-space:pre;overflow-x:auto;line-height:normal;font-family:Menlo,'DejaVu Sans Mono',consolas,'Courier New',monospace\">   Total Assets: $<span style=\"color: #008080; text-decoration-color: #008080; font-weight: bold\">534</span>,<span style=\"color: #008080; text-decoration-color: #008080; font-weight: bold\">450</span>\n",
       "</pre>\n"
      ],
      "text/plain": [
       "   Total Assets: $\u001b[1;36m534\u001b[0m,\u001b[1;36m450\u001b[0m\n"
      ]
     },
     "metadata": {},
     "output_type": "display_data"
    },
    {
     "data": {
      "text/html": [
       "<pre style=\"white-space:pre;overflow-x:auto;line-height:normal;font-family:Menlo,'DejaVu Sans Mono',consolas,'Courier New',monospace\">\n",
       "============================================================\n",
       "</pre>\n"
      ],
      "text/plain": [
       "\n",
       "============================================================\n"
      ]
     },
     "metadata": {},
     "output_type": "display_data"
    },
    {
     "data": {
      "text/html": [
       "<pre style=\"white-space:pre;overflow-x:auto;line-height:normal;font-family:Menlo,'DejaVu Sans Mono',consolas,'Courier New',monospace\">Generating sample <span style=\"color: #008080; text-decoration-color: #008080; font-weight: bold\">12</span>/<span style=\"color: #008080; text-decoration-color: #008080; font-weight: bold\">13</span>\n",
       "</pre>\n"
      ],
      "text/plain": [
       "Generating sample \u001b[1;36m12\u001b[0m/\u001b[1;36m13\u001b[0m\n"
      ]
     },
     "metadata": {},
     "output_type": "display_data"
    },
    {
     "data": {
      "text/html": [
       "<pre style=\"white-space:pre;overflow-x:auto;line-height:normal;font-family:Menlo,'DejaVu Sans Mono',consolas,'Courier New',monospace\">Client: Stephanie Peters <span style=\"font-weight: bold\">(</span>Single - Widowed<span style=\"font-weight: bold\">)</span>\n",
       "</pre>\n"
      ],
      "text/plain": [
       "Client: Stephanie Peters \u001b[1m(\u001b[0mSingle - Widowed\u001b[1m)\u001b[0m\n"
      ]
     },
     "metadata": {},
     "output_type": "display_data"
    },
    {
     "data": {
      "text/html": [
       "<pre style=\"white-space:pre;overflow-x:auto;line-height:normal;font-family:Menlo,'DejaVu Sans Mono',consolas,'Courier New',monospace\">Occupation: Firefighter\n",
       "</pre>\n"
      ],
      "text/plain": [
       "Occupation: Firefighter\n"
      ]
     },
     "metadata": {},
     "output_type": "display_data"
    },
    {
     "data": {
      "text/html": [
       "<pre style=\"white-space:pre;overflow-x:auto;line-height:normal;font-family:Menlo,'DejaVu Sans Mono',consolas,'Courier New',monospace\">============================================================\n",
       "</pre>\n"
      ],
      "text/plain": [
       "============================================================\n"
      ]
     },
     "metadata": {},
     "output_type": "display_data"
    },
    {
     "data": {
      "text/html": [
       "<pre style=\"white-space:pre;overflow-x:auto;line-height:normal;font-family:Menlo,'DejaVu Sans Mono',consolas,'Courier New',monospace\">🔄 Generating transcript<span style=\"color: #808000; text-decoration-color: #808000\">...</span>\n",
       "</pre>\n"
      ],
      "text/plain": [
       "🔄 Generating transcript\u001b[33m...\u001b[0m\n"
      ]
     },
     "metadata": {},
     "output_type": "display_data"
    },
    {
     "data": {
      "text/html": [
       "<pre style=\"white-space:pre;overflow-x:auto;line-height:normal;font-family:Menlo,'DejaVu Sans Mono',consolas,'Courier New',monospace\">✅ Transcript generated <span style=\"font-weight: bold\">(</span><span style=\"color: #008080; text-decoration-color: #008080; font-weight: bold\">4602</span> characters<span style=\"font-weight: bold\">)</span>\n",
       "</pre>\n"
      ],
      "text/plain": [
       "✅ Transcript generated \u001b[1m(\u001b[0m\u001b[1;36m4602\u001b[0m characters\u001b[1m)\u001b[0m\n"
      ]
     },
     "metadata": {},
     "output_type": "display_data"
    },
    {
     "data": {
      "text/html": [
       "<pre style=\"white-space:pre;overflow-x:auto;line-height:normal;font-family:Menlo,'DejaVu Sans Mono',consolas,'Courier New',monospace\">🔄 Extracting structured data<span style=\"color: #808000; text-decoration-color: #808000\">...</span>\n",
       "</pre>\n"
      ],
      "text/plain": [
       "🔄 Extracting structured data\u001b[33m...\u001b[0m\n"
      ]
     },
     "metadata": {},
     "output_type": "display_data"
    },
    {
     "data": {
      "text/html": [
       "<pre style=\"white-space:pre;overflow-x:auto;line-height:normal;font-family:Menlo,'DejaVu Sans Mono',consolas,'Courier New',monospace\">✅ Structured data extracted successfully\n",
       "</pre>\n"
      ],
      "text/plain": [
       "✅ Structured data extracted successfully\n"
      ]
     },
     "metadata": {},
     "output_type": "display_data"
    },
    {
     "data": {
      "text/html": [
       "<pre style=\"white-space:pre;overflow-x:auto;line-height:normal;font-family:Menlo,'DejaVu Sans Mono',consolas,'Courier New',monospace\">💾 Sample <span style=\"color: #008080; text-decoration-color: #008080; font-weight: bold\">12</span> saved successfully\n",
       "</pre>\n"
      ],
      "text/plain": [
       "💾 Sample \u001b[1;36m12\u001b[0m saved successfully\n"
      ]
     },
     "metadata": {},
     "output_type": "display_data"
    },
    {
     "data": {
      "text/html": [
       "<pre style=\"white-space:pre;overflow-x:auto;line-height:normal;font-family:Menlo,'DejaVu Sans Mono',consolas,'Courier New',monospace\">📊 Stats:\n",
       "</pre>\n"
      ],
      "text/plain": [
       "📊 Stats:\n"
      ]
     },
     "metadata": {},
     "output_type": "display_data"
    },
    {
     "data": {
      "text/html": [
       "<pre style=\"white-space:pre;overflow-x:auto;line-height:normal;font-family:Menlo,'DejaVu Sans Mono',consolas,'Courier New',monospace\">   Household Income: $<span style=\"color: #008080; text-decoration-color: #008080; font-weight: bold\">55</span>,<span style=\"color: #008080; text-decoration-color: #008080; font-weight: bold\">352</span>\n",
       "</pre>\n"
      ],
      "text/plain": [
       "   Household Income: $\u001b[1;36m55\u001b[0m,\u001b[1;36m352\u001b[0m\n"
      ]
     },
     "metadata": {},
     "output_type": "display_data"
    },
    {
     "data": {
      "text/html": [
       "<pre style=\"white-space:pre;overflow-x:auto;line-height:normal;font-family:Menlo,'DejaVu Sans Mono',consolas,'Courier New',monospace\">   Risk Tolerance: Conservative\n",
       "</pre>\n"
      ],
      "text/plain": [
       "   Risk Tolerance: Conservative\n"
      ]
     },
     "metadata": {},
     "output_type": "display_data"
    },
    {
     "data": {
      "text/html": [
       "<pre style=\"white-space:pre;overflow-x:auto;line-height:normal;font-family:Menlo,'DejaVu Sans Mono',consolas,'Courier New',monospace\">   Years to Retirement: <span style=\"color: #008080; text-decoration-color: #008080; font-weight: bold\">4</span>\n",
       "</pre>\n"
      ],
      "text/plain": [
       "   Years to Retirement: \u001b[1;36m4\u001b[0m\n"
      ]
     },
     "metadata": {},
     "output_type": "display_data"
    },
    {
     "data": {
      "text/html": [
       "<pre style=\"white-space:pre;overflow-x:auto;line-height:normal;font-family:Menlo,'DejaVu Sans Mono',consolas,'Courier New',monospace\">   Total Assets: $<span style=\"color: #008080; text-decoration-color: #008080; font-weight: bold\">362</span>,<span style=\"color: #008080; text-decoration-color: #008080; font-weight: bold\">981</span>\n",
       "</pre>\n"
      ],
      "text/plain": [
       "   Total Assets: $\u001b[1;36m362\u001b[0m,\u001b[1;36m981\u001b[0m\n"
      ]
     },
     "metadata": {},
     "output_type": "display_data"
    },
    {
     "data": {
      "text/html": [
       "<pre style=\"white-space:pre;overflow-x:auto;line-height:normal;font-family:Menlo,'DejaVu Sans Mono',consolas,'Courier New',monospace\">\n",
       "============================================================\n",
       "</pre>\n"
      ],
      "text/plain": [
       "\n",
       "============================================================\n"
      ]
     },
     "metadata": {},
     "output_type": "display_data"
    },
    {
     "data": {
      "text/html": [
       "<pre style=\"white-space:pre;overflow-x:auto;line-height:normal;font-family:Menlo,'DejaVu Sans Mono',consolas,'Courier New',monospace\">Generating sample <span style=\"color: #008080; text-decoration-color: #008080; font-weight: bold\">13</span>/<span style=\"color: #008080; text-decoration-color: #008080; font-weight: bold\">13</span>\n",
       "</pre>\n"
      ],
      "text/plain": [
       "Generating sample \u001b[1;36m13\u001b[0m/\u001b[1;36m13\u001b[0m\n"
      ]
     },
     "metadata": {},
     "output_type": "display_data"
    },
    {
     "data": {
      "text/html": [
       "<pre style=\"white-space:pre;overflow-x:auto;line-height:normal;font-family:Menlo,'DejaVu Sans Mono',consolas,'Courier New',monospace\">Client: Emma Becker <span style=\"font-weight: bold\">(</span>Single - Widowed<span style=\"font-weight: bold\">)</span>\n",
       "</pre>\n"
      ],
      "text/plain": [
       "Client: Emma Becker \u001b[1m(\u001b[0mSingle - Widowed\u001b[1m)\u001b[0m\n"
      ]
     },
     "metadata": {},
     "output_type": "display_data"
    },
    {
     "data": {
      "text/html": [
       "<pre style=\"white-space:pre;overflow-x:auto;line-height:normal;font-family:Menlo,'DejaVu Sans Mono',consolas,'Courier New',monospace\">Occupation: Pharmacist\n",
       "</pre>\n"
      ],
      "text/plain": [
       "Occupation: Pharmacist\n"
      ]
     },
     "metadata": {},
     "output_type": "display_data"
    },
    {
     "data": {
      "text/html": [
       "<pre style=\"white-space:pre;overflow-x:auto;line-height:normal;font-family:Menlo,'DejaVu Sans Mono',consolas,'Courier New',monospace\">============================================================\n",
       "</pre>\n"
      ],
      "text/plain": [
       "============================================================\n"
      ]
     },
     "metadata": {},
     "output_type": "display_data"
    },
    {
     "data": {
      "text/html": [
       "<pre style=\"white-space:pre;overflow-x:auto;line-height:normal;font-family:Menlo,'DejaVu Sans Mono',consolas,'Courier New',monospace\">🔄 Generating transcript<span style=\"color: #808000; text-decoration-color: #808000\">...</span>\n",
       "</pre>\n"
      ],
      "text/plain": [
       "🔄 Generating transcript\u001b[33m...\u001b[0m\n"
      ]
     },
     "metadata": {},
     "output_type": "display_data"
    },
    {
     "data": {
      "text/html": [
       "<pre style=\"white-space:pre;overflow-x:auto;line-height:normal;font-family:Menlo,'DejaVu Sans Mono',consolas,'Courier New',monospace\">✅ Transcript generated <span style=\"font-weight: bold\">(</span><span style=\"color: #008080; text-decoration-color: #008080; font-weight: bold\">3403</span> characters<span style=\"font-weight: bold\">)</span>\n",
       "</pre>\n"
      ],
      "text/plain": [
       "✅ Transcript generated \u001b[1m(\u001b[0m\u001b[1;36m3403\u001b[0m characters\u001b[1m)\u001b[0m\n"
      ]
     },
     "metadata": {},
     "output_type": "display_data"
    },
    {
     "data": {
      "text/html": [
       "<pre style=\"white-space:pre;overflow-x:auto;line-height:normal;font-family:Menlo,'DejaVu Sans Mono',consolas,'Courier New',monospace\">🔄 Extracting structured data<span style=\"color: #808000; text-decoration-color: #808000\">...</span>\n",
       "</pre>\n"
      ],
      "text/plain": [
       "🔄 Extracting structured data\u001b[33m...\u001b[0m\n"
      ]
     },
     "metadata": {},
     "output_type": "display_data"
    },
    {
     "data": {
      "text/html": [
       "<pre style=\"white-space:pre;overflow-x:auto;line-height:normal;font-family:Menlo,'DejaVu Sans Mono',consolas,'Courier New',monospace\">✅ Structured data extracted successfully\n",
       "</pre>\n"
      ],
      "text/plain": [
       "✅ Structured data extracted successfully\n"
      ]
     },
     "metadata": {},
     "output_type": "display_data"
    },
    {
     "data": {
      "text/html": [
       "<pre style=\"white-space:pre;overflow-x:auto;line-height:normal;font-family:Menlo,'DejaVu Sans Mono',consolas,'Courier New',monospace\">💾 Sample <span style=\"color: #008080; text-decoration-color: #008080; font-weight: bold\">13</span> saved successfully\n",
       "</pre>\n"
      ],
      "text/plain": [
       "💾 Sample \u001b[1;36m13\u001b[0m saved successfully\n"
      ]
     },
     "metadata": {},
     "output_type": "display_data"
    },
    {
     "data": {
      "text/html": [
       "<pre style=\"white-space:pre;overflow-x:auto;line-height:normal;font-family:Menlo,'DejaVu Sans Mono',consolas,'Courier New',monospace\">📊 Stats:\n",
       "</pre>\n"
      ],
      "text/plain": [
       "📊 Stats:\n"
      ]
     },
     "metadata": {},
     "output_type": "display_data"
    },
    {
     "data": {
      "text/html": [
       "<pre style=\"white-space:pre;overflow-x:auto;line-height:normal;font-family:Menlo,'DejaVu Sans Mono',consolas,'Courier New',monospace\">   Household Income: $<span style=\"color: #008080; text-decoration-color: #008080; font-weight: bold\">113</span>,<span style=\"color: #008080; text-decoration-color: #008080; font-weight: bold\">744</span>\n",
       "</pre>\n"
      ],
      "text/plain": [
       "   Household Income: $\u001b[1;36m113\u001b[0m,\u001b[1;36m744\u001b[0m\n"
      ]
     },
     "metadata": {},
     "output_type": "display_data"
    },
    {
     "data": {
      "text/html": [
       "<pre style=\"white-space:pre;overflow-x:auto;line-height:normal;font-family:Menlo,'DejaVu Sans Mono',consolas,'Courier New',monospace\">   Risk Tolerance: Moderately Aggressive\n",
       "</pre>\n"
      ],
      "text/plain": [
       "   Risk Tolerance: Moderately Aggressive\n"
      ]
     },
     "metadata": {},
     "output_type": "display_data"
    },
    {
     "data": {
      "text/html": [
       "<pre style=\"white-space:pre;overflow-x:auto;line-height:normal;font-family:Menlo,'DejaVu Sans Mono',consolas,'Courier New',monospace\">   Years to Retirement: <span style=\"color: #008080; text-decoration-color: #008080; font-weight: bold\">20</span>\n",
       "</pre>\n"
      ],
      "text/plain": [
       "   Years to Retirement: \u001b[1;36m20\u001b[0m\n"
      ]
     },
     "metadata": {},
     "output_type": "display_data"
    },
    {
     "data": {
      "text/html": [
       "<pre style=\"white-space:pre;overflow-x:auto;line-height:normal;font-family:Menlo,'DejaVu Sans Mono',consolas,'Courier New',monospace\">   Total Assets: $<span style=\"color: #008080; text-decoration-color: #008080; font-weight: bold\">398</span>,<span style=\"color: #008080; text-decoration-color: #008080; font-weight: bold\">835</span>\n",
       "</pre>\n"
      ],
      "text/plain": [
       "   Total Assets: $\u001b[1;36m398\u001b[0m,\u001b[1;36m835\u001b[0m\n"
      ]
     },
     "metadata": {},
     "output_type": "display_data"
    },
    {
     "data": {
      "text/html": [
       "<pre style=\"white-space:pre;overflow-x:auto;line-height:normal;font-family:Menlo,'DejaVu Sans Mono',consolas,'Courier New',monospace\">\n",
       "============================================================\n",
       "</pre>\n"
      ],
      "text/plain": [
       "\n",
       "============================================================\n"
      ]
     },
     "metadata": {},
     "output_type": "display_data"
    },
    {
     "data": {
      "text/html": [
       "<pre style=\"white-space:pre;overflow-x:auto;line-height:normal;font-family:Menlo,'DejaVu Sans Mono',consolas,'Courier New',monospace\">📈 FINAL DATASET STATISTICS\n",
       "</pre>\n"
      ],
      "text/plain": [
       "📈 FINAL DATASET STATISTICS\n"
      ]
     },
     "metadata": {},
     "output_type": "display_data"
    },
    {
     "data": {
      "text/html": [
       "<pre style=\"white-space:pre;overflow-x:auto;line-height:normal;font-family:Menlo,'DejaVu Sans Mono',consolas,'Courier New',monospace\">============================================================\n",
       "</pre>\n"
      ],
      "text/plain": [
       "============================================================\n"
      ]
     },
     "metadata": {},
     "output_type": "display_data"
    },
    {
     "data": {
      "text/html": [
       "<pre style=\"white-space:pre;overflow-x:auto;line-height:normal;font-family:Menlo,'DejaVu Sans Mono',consolas,'Courier New',monospace\">Total samples generated: <span style=\"color: #008080; text-decoration-color: #008080; font-weight: bold\">13</span>\n",
       "</pre>\n"
      ],
      "text/plain": [
       "Total samples generated: \u001b[1;36m13\u001b[0m\n"
      ]
     },
     "metadata": {},
     "output_type": "display_data"
    },
    {
     "data": {
      "text/html": [
       "<pre style=\"white-space:pre;overflow-x:auto;line-height:normal;font-family:Menlo,'DejaVu Sans Mono',consolas,'Courier New',monospace\">Successful: <span style=\"color: #008080; text-decoration-color: #008080; font-weight: bold\">13</span>\n",
       "</pre>\n"
      ],
      "text/plain": [
       "Successful: \u001b[1;36m13\u001b[0m\n"
      ]
     },
     "metadata": {},
     "output_type": "display_data"
    },
    {
     "data": {
      "text/html": [
       "<pre style=\"white-space:pre;overflow-x:auto;line-height:normal;font-family:Menlo,'DejaVu Sans Mono',consolas,'Courier New',monospace\">Failed: <span style=\"color: #008080; text-decoration-color: #008080; font-weight: bold\">0</span>\n",
       "</pre>\n"
      ],
      "text/plain": [
       "Failed: \u001b[1;36m0\u001b[0m\n"
      ]
     },
     "metadata": {},
     "output_type": "display_data"
    },
    {
     "data": {
      "text/html": [
       "<pre style=\"white-space:pre;overflow-x:auto;line-height:normal;font-family:Menlo,'DejaVu Sans Mono',consolas,'Courier New',monospace\">Couples: <span style=\"color: #008080; text-decoration-color: #008080; font-weight: bold\">8</span> <span style=\"font-weight: bold\">(</span><span style=\"color: #008080; text-decoration-color: #008080; font-weight: bold\">61.5</span>%<span style=\"font-weight: bold\">)</span>\n",
       "</pre>\n"
      ],
      "text/plain": [
       "Couples: \u001b[1;36m8\u001b[0m \u001b[1m(\u001b[0m\u001b[1;36m61.5\u001b[0m%\u001b[1m)\u001b[0m\n"
      ]
     },
     "metadata": {},
     "output_type": "display_data"
    },
    {
     "data": {
      "text/html": [
       "<pre style=\"white-space:pre;overflow-x:auto;line-height:normal;font-family:Menlo,'DejaVu Sans Mono',consolas,'Courier New',monospace\">Singles: <span style=\"color: #008080; text-decoration-color: #008080; font-weight: bold\">5</span> <span style=\"font-weight: bold\">(</span><span style=\"color: #008080; text-decoration-color: #008080; font-weight: bold\">38.5</span>%<span style=\"font-weight: bold\">)</span>\n",
       "</pre>\n"
      ],
      "text/plain": [
       "Singles: \u001b[1;36m5\u001b[0m \u001b[1m(\u001b[0m\u001b[1;36m38.5\u001b[0m%\u001b[1m)\u001b[0m\n"
      ]
     },
     "metadata": {},
     "output_type": "display_data"
    },
    {
     "data": {
      "text/html": [
       "<pre style=\"white-space:pre;overflow-x:auto;line-height:normal;font-family:Menlo,'DejaVu Sans Mono',consolas,'Courier New',monospace\">Average household income: $<span style=\"color: #008080; text-decoration-color: #008080; font-weight: bold\">171</span>,<span style=\"color: #008080; text-decoration-color: #008080; font-weight: bold\">252</span>\n",
       "</pre>\n"
      ],
      "text/plain": [
       "Average household income: $\u001b[1;36m171\u001b[0m,\u001b[1;36m252\u001b[0m\n"
      ]
     },
     "metadata": {},
     "output_type": "display_data"
    },
    {
     "data": {
      "text/html": [
       "<pre style=\"white-space:pre;overflow-x:auto;line-height:normal;font-family:Menlo,'DejaVu Sans Mono',consolas,'Courier New',monospace\">Income range: $<span style=\"color: #008080; text-decoration-color: #008080; font-weight: bold\">55</span>,<span style=\"color: #008080; text-decoration-color: #008080; font-weight: bold\">352</span> - $<span style=\"color: #008080; text-decoration-color: #008080; font-weight: bold\">347</span>,<span style=\"color: #008080; text-decoration-color: #008080; font-weight: bold\">047</span>\n",
       "</pre>\n"
      ],
      "text/plain": [
       "Income range: $\u001b[1;36m55\u001b[0m,\u001b[1;36m352\u001b[0m - $\u001b[1;36m347\u001b[0m,\u001b[1;36m047\u001b[0m\n"
      ]
     },
     "metadata": {},
     "output_type": "display_data"
    },
    {
     "data": {
      "text/html": [
       "<pre style=\"white-space:pre;overflow-x:auto;line-height:normal;font-family:Menlo,'DejaVu Sans Mono',consolas,'Courier New',monospace\">\n",
       "Files saved in: financial_dataset\n",
       "</pre>\n"
      ],
      "text/plain": [
       "\n",
       "Files saved in: financial_dataset\n"
      ]
     },
     "metadata": {},
     "output_type": "display_data"
    },
    {
     "data": {
      "text/html": [
       "<pre style=\"white-space:pre;overflow-x:auto;line-height:normal;font-family:Menlo,'DejaVu Sans Mono',consolas,'Courier New',monospace\">Index file: financial_dataset/dataset_index.json\n",
       "</pre>\n"
      ],
      "text/plain": [
       "Index file: financial_dataset/dataset_index.json\n"
      ]
     },
     "metadata": {},
     "output_type": "display_data"
    },
    {
     "data": {
      "text/html": [
       "<pre style=\"white-space:pre;overflow-x:auto;line-height:normal;font-family:Menlo,'DejaVu Sans Mono',consolas,'Courier New',monospace\">\n",
       "🎉 Generation complete!\n",
       "</pre>\n"
      ],
      "text/plain": [
       "\n",
       "🎉 Generation complete!\n"
      ]
     },
     "metadata": {},
     "output_type": "display_data"
    }
   ],
   "source": [
    "# Create generator\n",
    "generator = FinancialAdvisoryDataGenerator(client, output_dir=output_dir)\n",
    "\n",
    "# Generate dataset with immediate saving\n",
    "print(f\"\\nStarting generation process...\")\n",
    "generator.generate_complete_dataset(num_samples=num_samples)\n",
    "\n",
    "print(f\"\\n🎉 Generation complete!\")"
   ]
  },
  {
   "cell_type": "code",
   "execution_count": null,
   "metadata": {},
   "outputs": [],
   "source": []
  }
 ],
 "metadata": {
  "kernelspec": {
   "display_name": ".venv",
   "language": "python",
   "name": "python3"
  },
  "language_info": {
   "codemirror_mode": {
    "name": "ipython",
    "version": 3
   },
   "file_extension": ".py",
   "mimetype": "text/x-python",
   "name": "python",
   "nbconvert_exporter": "python",
   "pygments_lexer": "ipython3",
   "version": "3.12.7"
  }
 },
 "nbformat": 4,
 "nbformat_minor": 2
}
